{
  "nbformat": 4,
  "nbformat_minor": 0,
  "metadata": {
    "colab": {
      "provenance": []
    },
    "kernelspec": {
      "name": "python3",
      "display_name": "Python 3"
    },
    "language_info": {
      "name": "python"
    }
  },
  "cells": [
    {
      "cell_type": "code",
      "metadata": {
        "id": "7F7rtCPVqjOW"
      },
      "source": [
        "import pandas as pd\n",
        "import numpy as np\n",
        "import matplotlib.pyplot as plt\n",
        "import seaborn as sns\n",
        "import nltk\n",
        "import re"
      ],
      "execution_count": 78,
      "outputs": []
    },
    {
      "cell_type": "code",
      "metadata": {
        "id": "Hh_Ajy82qpgg"
      },
      "source": [
        "data = pd.read_csv(\"/content/drive/MyDrive/US_Sentiment/US_Airline.csv\")"
      ],
      "execution_count": null,
      "outputs": []
    },
    {
      "cell_type": "markdown",
      "source": [
        "## Exploring the data"
      ],
      "metadata": {
        "id": "QtEJchBe0cWc"
      }
    },
    {
      "cell_type": "code",
      "metadata": {
        "colab": {
          "base_uri": "https://localhost:8080/",
          "height": 496
        },
        "id": "bthXTdowq0_p",
        "outputId": "bfeb86f6-11ef-442d-9e06-8d97f345d032"
      },
      "source": [
        "data.head()"
      ],
      "execution_count": null,
      "outputs": [
        {
          "output_type": "execute_result",
          "data": {
            "text/plain": [
              "             tweet_id airline_sentiment  airline_sentiment_confidence  \\\n",
              "0  570306133677760513           neutral                        1.0000   \n",
              "1  570301130888122368          positive                        0.3486   \n",
              "2  570301083672813571           neutral                        0.6837   \n",
              "3  570301031407624196          negative                        1.0000   \n",
              "4  570300817074462722          negative                        1.0000   \n",
              "\n",
              "  negativereason  negativereason_confidence         airline  \\\n",
              "0            NaN                        NaN  Virgin America   \n",
              "1            NaN                     0.0000  Virgin America   \n",
              "2            NaN                        NaN  Virgin America   \n",
              "3     Bad Flight                     0.7033  Virgin America   \n",
              "4     Can't Tell                     1.0000  Virgin America   \n",
              "\n",
              "  airline_sentiment_gold        name negativereason_gold  retweet_count  \\\n",
              "0                    NaN     cairdin                 NaN              0   \n",
              "1                    NaN    jnardino                 NaN              0   \n",
              "2                    NaN  yvonnalynn                 NaN              0   \n",
              "3                    NaN    jnardino                 NaN              0   \n",
              "4                    NaN    jnardino                 NaN              0   \n",
              "\n",
              "                                                text tweet_coord  \\\n",
              "0                @VirginAmerica What @dhepburn said.         NaN   \n",
              "1  @VirginAmerica plus you've added commercials t...         NaN   \n",
              "2  @VirginAmerica I didn't today... Must mean I n...         NaN   \n",
              "3  @VirginAmerica it's really aggressive to blast...         NaN   \n",
              "4  @VirginAmerica and it's a really big bad thing...         NaN   \n",
              "\n",
              "               tweet_created tweet_location               user_timezone  \n",
              "0  2015-02-24 11:35:52 -0800            NaN  Eastern Time (US & Canada)  \n",
              "1  2015-02-24 11:15:59 -0800            NaN  Pacific Time (US & Canada)  \n",
              "2  2015-02-24 11:15:48 -0800      Lets Play  Central Time (US & Canada)  \n",
              "3  2015-02-24 11:15:36 -0800            NaN  Pacific Time (US & Canada)  \n",
              "4  2015-02-24 11:14:45 -0800            NaN  Pacific Time (US & Canada)  "
            ],
            "text/html": [
              "\n",
              "  <div id=\"df-8cee6e97-7b6e-4136-b4e9-9a8ebfe7a735\">\n",
              "    <div class=\"colab-df-container\">\n",
              "      <div>\n",
              "<style scoped>\n",
              "    .dataframe tbody tr th:only-of-type {\n",
              "        vertical-align: middle;\n",
              "    }\n",
              "\n",
              "    .dataframe tbody tr th {\n",
              "        vertical-align: top;\n",
              "    }\n",
              "\n",
              "    .dataframe thead th {\n",
              "        text-align: right;\n",
              "    }\n",
              "</style>\n",
              "<table border=\"1\" class=\"dataframe\">\n",
              "  <thead>\n",
              "    <tr style=\"text-align: right;\">\n",
              "      <th></th>\n",
              "      <th>tweet_id</th>\n",
              "      <th>airline_sentiment</th>\n",
              "      <th>airline_sentiment_confidence</th>\n",
              "      <th>negativereason</th>\n",
              "      <th>negativereason_confidence</th>\n",
              "      <th>airline</th>\n",
              "      <th>airline_sentiment_gold</th>\n",
              "      <th>name</th>\n",
              "      <th>negativereason_gold</th>\n",
              "      <th>retweet_count</th>\n",
              "      <th>text</th>\n",
              "      <th>tweet_coord</th>\n",
              "      <th>tweet_created</th>\n",
              "      <th>tweet_location</th>\n",
              "      <th>user_timezone</th>\n",
              "    </tr>\n",
              "  </thead>\n",
              "  <tbody>\n",
              "    <tr>\n",
              "      <th>0</th>\n",
              "      <td>570306133677760513</td>\n",
              "      <td>neutral</td>\n",
              "      <td>1.0000</td>\n",
              "      <td>NaN</td>\n",
              "      <td>NaN</td>\n",
              "      <td>Virgin America</td>\n",
              "      <td>NaN</td>\n",
              "      <td>cairdin</td>\n",
              "      <td>NaN</td>\n",
              "      <td>0</td>\n",
              "      <td>@VirginAmerica What @dhepburn said.</td>\n",
              "      <td>NaN</td>\n",
              "      <td>2015-02-24 11:35:52 -0800</td>\n",
              "      <td>NaN</td>\n",
              "      <td>Eastern Time (US &amp; Canada)</td>\n",
              "    </tr>\n",
              "    <tr>\n",
              "      <th>1</th>\n",
              "      <td>570301130888122368</td>\n",
              "      <td>positive</td>\n",
              "      <td>0.3486</td>\n",
              "      <td>NaN</td>\n",
              "      <td>0.0000</td>\n",
              "      <td>Virgin America</td>\n",
              "      <td>NaN</td>\n",
              "      <td>jnardino</td>\n",
              "      <td>NaN</td>\n",
              "      <td>0</td>\n",
              "      <td>@VirginAmerica plus you've added commercials t...</td>\n",
              "      <td>NaN</td>\n",
              "      <td>2015-02-24 11:15:59 -0800</td>\n",
              "      <td>NaN</td>\n",
              "      <td>Pacific Time (US &amp; Canada)</td>\n",
              "    </tr>\n",
              "    <tr>\n",
              "      <th>2</th>\n",
              "      <td>570301083672813571</td>\n",
              "      <td>neutral</td>\n",
              "      <td>0.6837</td>\n",
              "      <td>NaN</td>\n",
              "      <td>NaN</td>\n",
              "      <td>Virgin America</td>\n",
              "      <td>NaN</td>\n",
              "      <td>yvonnalynn</td>\n",
              "      <td>NaN</td>\n",
              "      <td>0</td>\n",
              "      <td>@VirginAmerica I didn't today... Must mean I n...</td>\n",
              "      <td>NaN</td>\n",
              "      <td>2015-02-24 11:15:48 -0800</td>\n",
              "      <td>Lets Play</td>\n",
              "      <td>Central Time (US &amp; Canada)</td>\n",
              "    </tr>\n",
              "    <tr>\n",
              "      <th>3</th>\n",
              "      <td>570301031407624196</td>\n",
              "      <td>negative</td>\n",
              "      <td>1.0000</td>\n",
              "      <td>Bad Flight</td>\n",
              "      <td>0.7033</td>\n",
              "      <td>Virgin America</td>\n",
              "      <td>NaN</td>\n",
              "      <td>jnardino</td>\n",
              "      <td>NaN</td>\n",
              "      <td>0</td>\n",
              "      <td>@VirginAmerica it's really aggressive to blast...</td>\n",
              "      <td>NaN</td>\n",
              "      <td>2015-02-24 11:15:36 -0800</td>\n",
              "      <td>NaN</td>\n",
              "      <td>Pacific Time (US &amp; Canada)</td>\n",
              "    </tr>\n",
              "    <tr>\n",
              "      <th>4</th>\n",
              "      <td>570300817074462722</td>\n",
              "      <td>negative</td>\n",
              "      <td>1.0000</td>\n",
              "      <td>Can't Tell</td>\n",
              "      <td>1.0000</td>\n",
              "      <td>Virgin America</td>\n",
              "      <td>NaN</td>\n",
              "      <td>jnardino</td>\n",
              "      <td>NaN</td>\n",
              "      <td>0</td>\n",
              "      <td>@VirginAmerica and it's a really big bad thing...</td>\n",
              "      <td>NaN</td>\n",
              "      <td>2015-02-24 11:14:45 -0800</td>\n",
              "      <td>NaN</td>\n",
              "      <td>Pacific Time (US &amp; Canada)</td>\n",
              "    </tr>\n",
              "  </tbody>\n",
              "</table>\n",
              "</div>\n",
              "      <button class=\"colab-df-convert\" onclick=\"convertToInteractive('df-8cee6e97-7b6e-4136-b4e9-9a8ebfe7a735')\"\n",
              "              title=\"Convert this dataframe to an interactive table.\"\n",
              "              style=\"display:none;\">\n",
              "        \n",
              "  <svg xmlns=\"http://www.w3.org/2000/svg\" height=\"24px\"viewBox=\"0 0 24 24\"\n",
              "       width=\"24px\">\n",
              "    <path d=\"M0 0h24v24H0V0z\" fill=\"none\"/>\n",
              "    <path d=\"M18.56 5.44l.94 2.06.94-2.06 2.06-.94-2.06-.94-.94-2.06-.94 2.06-2.06.94zm-11 1L8.5 8.5l.94-2.06 2.06-.94-2.06-.94L8.5 2.5l-.94 2.06-2.06.94zm10 10l.94 2.06.94-2.06 2.06-.94-2.06-.94-.94-2.06-.94 2.06-2.06.94z\"/><path d=\"M17.41 7.96l-1.37-1.37c-.4-.4-.92-.59-1.43-.59-.52 0-1.04.2-1.43.59L10.3 9.45l-7.72 7.72c-.78.78-.78 2.05 0 2.83L4 21.41c.39.39.9.59 1.41.59.51 0 1.02-.2 1.41-.59l7.78-7.78 2.81-2.81c.8-.78.8-2.07 0-2.86zM5.41 20L4 18.59l7.72-7.72 1.47 1.35L5.41 20z\"/>\n",
              "  </svg>\n",
              "      </button>\n",
              "      \n",
              "  <style>\n",
              "    .colab-df-container {\n",
              "      display:flex;\n",
              "      flex-wrap:wrap;\n",
              "      gap: 12px;\n",
              "    }\n",
              "\n",
              "    .colab-df-convert {\n",
              "      background-color: #E8F0FE;\n",
              "      border: none;\n",
              "      border-radius: 50%;\n",
              "      cursor: pointer;\n",
              "      display: none;\n",
              "      fill: #1967D2;\n",
              "      height: 32px;\n",
              "      padding: 0 0 0 0;\n",
              "      width: 32px;\n",
              "    }\n",
              "\n",
              "    .colab-df-convert:hover {\n",
              "      background-color: #E2EBFA;\n",
              "      box-shadow: 0px 1px 2px rgba(60, 64, 67, 0.3), 0px 1px 3px 1px rgba(60, 64, 67, 0.15);\n",
              "      fill: #174EA6;\n",
              "    }\n",
              "\n",
              "    [theme=dark] .colab-df-convert {\n",
              "      background-color: #3B4455;\n",
              "      fill: #D2E3FC;\n",
              "    }\n",
              "\n",
              "    [theme=dark] .colab-df-convert:hover {\n",
              "      background-color: #434B5C;\n",
              "      box-shadow: 0px 1px 3px 1px rgba(0, 0, 0, 0.15);\n",
              "      filter: drop-shadow(0px 1px 2px rgba(0, 0, 0, 0.3));\n",
              "      fill: #FFFFFF;\n",
              "    }\n",
              "  </style>\n",
              "\n",
              "      <script>\n",
              "        const buttonEl =\n",
              "          document.querySelector('#df-8cee6e97-7b6e-4136-b4e9-9a8ebfe7a735 button.colab-df-convert');\n",
              "        buttonEl.style.display =\n",
              "          google.colab.kernel.accessAllowed ? 'block' : 'none';\n",
              "\n",
              "        async function convertToInteractive(key) {\n",
              "          const element = document.querySelector('#df-8cee6e97-7b6e-4136-b4e9-9a8ebfe7a735');\n",
              "          const dataTable =\n",
              "            await google.colab.kernel.invokeFunction('convertToInteractive',\n",
              "                                                     [key], {});\n",
              "          if (!dataTable) return;\n",
              "\n",
              "          const docLinkHtml = 'Like what you see? Visit the ' +\n",
              "            '<a target=\"_blank\" href=https://colab.research.google.com/notebooks/data_table.ipynb>data table notebook</a>'\n",
              "            + ' to learn more about interactive tables.';\n",
              "          element.innerHTML = '';\n",
              "          dataTable['output_type'] = 'display_data';\n",
              "          await google.colab.output.renderOutput(dataTable, element);\n",
              "          const docLink = document.createElement('div');\n",
              "          docLink.innerHTML = docLinkHtml;\n",
              "          element.appendChild(docLink);\n",
              "        }\n",
              "      </script>\n",
              "    </div>\n",
              "  </div>\n",
              "  "
            ]
          },
          "metadata": {},
          "execution_count": 4
        }
      ]
    },
    {
      "cell_type": "code",
      "source": [
        "data.tail()"
      ],
      "metadata": {
        "colab": {
          "base_uri": "https://localhost:8080/",
          "height": 531
        },
        "id": "N4Np7QZb0SUW",
        "outputId": "88c327bf-a9c7-4bc2-8bd3-0570edc232bd"
      },
      "execution_count": null,
      "outputs": [
        {
          "output_type": "execute_result",
          "data": {
            "text/plain": [
              "                 tweet_id airline_sentiment  airline_sentiment_confidence  \\\n",
              "14635  569587686496825344          positive                        0.3487   \n",
              "14636  569587371693355008          negative                        1.0000   \n",
              "14637  569587242672398336           neutral                        1.0000   \n",
              "14638  569587188687634433          negative                        1.0000   \n",
              "14639  569587140490866689           neutral                        0.6771   \n",
              "\n",
              "               negativereason  negativereason_confidence   airline  \\\n",
              "14635                     NaN                     0.0000  American   \n",
              "14636  Customer Service Issue                     1.0000  American   \n",
              "14637                     NaN                        NaN  American   \n",
              "14638  Customer Service Issue                     0.6659  American   \n",
              "14639                     NaN                     0.0000  American   \n",
              "\n",
              "      airline_sentiment_gold             name negativereason_gold  \\\n",
              "14635                    NaN  KristenReenders                 NaN   \n",
              "14636                    NaN         itsropes                 NaN   \n",
              "14637                    NaN         sanyabun                 NaN   \n",
              "14638                    NaN       SraJackson                 NaN   \n",
              "14639                    NaN        daviddtwu                 NaN   \n",
              "\n",
              "       retweet_count                                               text  \\\n",
              "14635              0  @AmericanAir thank you we got on a different f...   \n",
              "14636              0  @AmericanAir leaving over 20 minutes Late Flig...   \n",
              "14637              0  @AmericanAir Please bring American Airlines to...   \n",
              "14638              0  @AmericanAir you have my money, you change my ...   \n",
              "14639              0  @AmericanAir we have 8 ppl so we need 2 know h...   \n",
              "\n",
              "      tweet_coord              tweet_created tweet_location  \\\n",
              "14635         NaN  2015-02-22 12:01:01 -0800            NaN   \n",
              "14636         NaN  2015-02-22 11:59:46 -0800          Texas   \n",
              "14637         NaN  2015-02-22 11:59:15 -0800  Nigeria,lagos   \n",
              "14638         NaN  2015-02-22 11:59:02 -0800     New Jersey   \n",
              "14639         NaN  2015-02-22 11:58:51 -0800     dallas, TX   \n",
              "\n",
              "                    user_timezone  \n",
              "14635                         NaN  \n",
              "14636                         NaN  \n",
              "14637                         NaN  \n",
              "14638  Eastern Time (US & Canada)  \n",
              "14639                         NaN  "
            ],
            "text/html": [
              "\n",
              "  <div id=\"df-0225bda9-f3cb-4655-9091-0f4970dfba91\">\n",
              "    <div class=\"colab-df-container\">\n",
              "      <div>\n",
              "<style scoped>\n",
              "    .dataframe tbody tr th:only-of-type {\n",
              "        vertical-align: middle;\n",
              "    }\n",
              "\n",
              "    .dataframe tbody tr th {\n",
              "        vertical-align: top;\n",
              "    }\n",
              "\n",
              "    .dataframe thead th {\n",
              "        text-align: right;\n",
              "    }\n",
              "</style>\n",
              "<table border=\"1\" class=\"dataframe\">\n",
              "  <thead>\n",
              "    <tr style=\"text-align: right;\">\n",
              "      <th></th>\n",
              "      <th>tweet_id</th>\n",
              "      <th>airline_sentiment</th>\n",
              "      <th>airline_sentiment_confidence</th>\n",
              "      <th>negativereason</th>\n",
              "      <th>negativereason_confidence</th>\n",
              "      <th>airline</th>\n",
              "      <th>airline_sentiment_gold</th>\n",
              "      <th>name</th>\n",
              "      <th>negativereason_gold</th>\n",
              "      <th>retweet_count</th>\n",
              "      <th>text</th>\n",
              "      <th>tweet_coord</th>\n",
              "      <th>tweet_created</th>\n",
              "      <th>tweet_location</th>\n",
              "      <th>user_timezone</th>\n",
              "    </tr>\n",
              "  </thead>\n",
              "  <tbody>\n",
              "    <tr>\n",
              "      <th>14635</th>\n",
              "      <td>569587686496825344</td>\n",
              "      <td>positive</td>\n",
              "      <td>0.3487</td>\n",
              "      <td>NaN</td>\n",
              "      <td>0.0000</td>\n",
              "      <td>American</td>\n",
              "      <td>NaN</td>\n",
              "      <td>KristenReenders</td>\n",
              "      <td>NaN</td>\n",
              "      <td>0</td>\n",
              "      <td>@AmericanAir thank you we got on a different f...</td>\n",
              "      <td>NaN</td>\n",
              "      <td>2015-02-22 12:01:01 -0800</td>\n",
              "      <td>NaN</td>\n",
              "      <td>NaN</td>\n",
              "    </tr>\n",
              "    <tr>\n",
              "      <th>14636</th>\n",
              "      <td>569587371693355008</td>\n",
              "      <td>negative</td>\n",
              "      <td>1.0000</td>\n",
              "      <td>Customer Service Issue</td>\n",
              "      <td>1.0000</td>\n",
              "      <td>American</td>\n",
              "      <td>NaN</td>\n",
              "      <td>itsropes</td>\n",
              "      <td>NaN</td>\n",
              "      <td>0</td>\n",
              "      <td>@AmericanAir leaving over 20 minutes Late Flig...</td>\n",
              "      <td>NaN</td>\n",
              "      <td>2015-02-22 11:59:46 -0800</td>\n",
              "      <td>Texas</td>\n",
              "      <td>NaN</td>\n",
              "    </tr>\n",
              "    <tr>\n",
              "      <th>14637</th>\n",
              "      <td>569587242672398336</td>\n",
              "      <td>neutral</td>\n",
              "      <td>1.0000</td>\n",
              "      <td>NaN</td>\n",
              "      <td>NaN</td>\n",
              "      <td>American</td>\n",
              "      <td>NaN</td>\n",
              "      <td>sanyabun</td>\n",
              "      <td>NaN</td>\n",
              "      <td>0</td>\n",
              "      <td>@AmericanAir Please bring American Airlines to...</td>\n",
              "      <td>NaN</td>\n",
              "      <td>2015-02-22 11:59:15 -0800</td>\n",
              "      <td>Nigeria,lagos</td>\n",
              "      <td>NaN</td>\n",
              "    </tr>\n",
              "    <tr>\n",
              "      <th>14638</th>\n",
              "      <td>569587188687634433</td>\n",
              "      <td>negative</td>\n",
              "      <td>1.0000</td>\n",
              "      <td>Customer Service Issue</td>\n",
              "      <td>0.6659</td>\n",
              "      <td>American</td>\n",
              "      <td>NaN</td>\n",
              "      <td>SraJackson</td>\n",
              "      <td>NaN</td>\n",
              "      <td>0</td>\n",
              "      <td>@AmericanAir you have my money, you change my ...</td>\n",
              "      <td>NaN</td>\n",
              "      <td>2015-02-22 11:59:02 -0800</td>\n",
              "      <td>New Jersey</td>\n",
              "      <td>Eastern Time (US &amp; Canada)</td>\n",
              "    </tr>\n",
              "    <tr>\n",
              "      <th>14639</th>\n",
              "      <td>569587140490866689</td>\n",
              "      <td>neutral</td>\n",
              "      <td>0.6771</td>\n",
              "      <td>NaN</td>\n",
              "      <td>0.0000</td>\n",
              "      <td>American</td>\n",
              "      <td>NaN</td>\n",
              "      <td>daviddtwu</td>\n",
              "      <td>NaN</td>\n",
              "      <td>0</td>\n",
              "      <td>@AmericanAir we have 8 ppl so we need 2 know h...</td>\n",
              "      <td>NaN</td>\n",
              "      <td>2015-02-22 11:58:51 -0800</td>\n",
              "      <td>dallas, TX</td>\n",
              "      <td>NaN</td>\n",
              "    </tr>\n",
              "  </tbody>\n",
              "</table>\n",
              "</div>\n",
              "      <button class=\"colab-df-convert\" onclick=\"convertToInteractive('df-0225bda9-f3cb-4655-9091-0f4970dfba91')\"\n",
              "              title=\"Convert this dataframe to an interactive table.\"\n",
              "              style=\"display:none;\">\n",
              "        \n",
              "  <svg xmlns=\"http://www.w3.org/2000/svg\" height=\"24px\"viewBox=\"0 0 24 24\"\n",
              "       width=\"24px\">\n",
              "    <path d=\"M0 0h24v24H0V0z\" fill=\"none\"/>\n",
              "    <path d=\"M18.56 5.44l.94 2.06.94-2.06 2.06-.94-2.06-.94-.94-2.06-.94 2.06-2.06.94zm-11 1L8.5 8.5l.94-2.06 2.06-.94-2.06-.94L8.5 2.5l-.94 2.06-2.06.94zm10 10l.94 2.06.94-2.06 2.06-.94-2.06-.94-.94-2.06-.94 2.06-2.06.94z\"/><path d=\"M17.41 7.96l-1.37-1.37c-.4-.4-.92-.59-1.43-.59-.52 0-1.04.2-1.43.59L10.3 9.45l-7.72 7.72c-.78.78-.78 2.05 0 2.83L4 21.41c.39.39.9.59 1.41.59.51 0 1.02-.2 1.41-.59l7.78-7.78 2.81-2.81c.8-.78.8-2.07 0-2.86zM5.41 20L4 18.59l7.72-7.72 1.47 1.35L5.41 20z\"/>\n",
              "  </svg>\n",
              "      </button>\n",
              "      \n",
              "  <style>\n",
              "    .colab-df-container {\n",
              "      display:flex;\n",
              "      flex-wrap:wrap;\n",
              "      gap: 12px;\n",
              "    }\n",
              "\n",
              "    .colab-df-convert {\n",
              "      background-color: #E8F0FE;\n",
              "      border: none;\n",
              "      border-radius: 50%;\n",
              "      cursor: pointer;\n",
              "      display: none;\n",
              "      fill: #1967D2;\n",
              "      height: 32px;\n",
              "      padding: 0 0 0 0;\n",
              "      width: 32px;\n",
              "    }\n",
              "\n",
              "    .colab-df-convert:hover {\n",
              "      background-color: #E2EBFA;\n",
              "      box-shadow: 0px 1px 2px rgba(60, 64, 67, 0.3), 0px 1px 3px 1px rgba(60, 64, 67, 0.15);\n",
              "      fill: #174EA6;\n",
              "    }\n",
              "\n",
              "    [theme=dark] .colab-df-convert {\n",
              "      background-color: #3B4455;\n",
              "      fill: #D2E3FC;\n",
              "    }\n",
              "\n",
              "    [theme=dark] .colab-df-convert:hover {\n",
              "      background-color: #434B5C;\n",
              "      box-shadow: 0px 1px 3px 1px rgba(0, 0, 0, 0.15);\n",
              "      filter: drop-shadow(0px 1px 2px rgba(0, 0, 0, 0.3));\n",
              "      fill: #FFFFFF;\n",
              "    }\n",
              "  </style>\n",
              "\n",
              "      <script>\n",
              "        const buttonEl =\n",
              "          document.querySelector('#df-0225bda9-f3cb-4655-9091-0f4970dfba91 button.colab-df-convert');\n",
              "        buttonEl.style.display =\n",
              "          google.colab.kernel.accessAllowed ? 'block' : 'none';\n",
              "\n",
              "        async function convertToInteractive(key) {\n",
              "          const element = document.querySelector('#df-0225bda9-f3cb-4655-9091-0f4970dfba91');\n",
              "          const dataTable =\n",
              "            await google.colab.kernel.invokeFunction('convertToInteractive',\n",
              "                                                     [key], {});\n",
              "          if (!dataTable) return;\n",
              "\n",
              "          const docLinkHtml = 'Like what you see? Visit the ' +\n",
              "            '<a target=\"_blank\" href=https://colab.research.google.com/notebooks/data_table.ipynb>data table notebook</a>'\n",
              "            + ' to learn more about interactive tables.';\n",
              "          element.innerHTML = '';\n",
              "          dataTable['output_type'] = 'display_data';\n",
              "          await google.colab.output.renderOutput(dataTable, element);\n",
              "          const docLink = document.createElement('div');\n",
              "          docLink.innerHTML = docLinkHtml;\n",
              "          element.appendChild(docLink);\n",
              "        }\n",
              "      </script>\n",
              "    </div>\n",
              "  </div>\n",
              "  "
            ]
          },
          "metadata": {},
          "execution_count": 7
        }
      ]
    },
    {
      "cell_type": "code",
      "metadata": {
        "colab": {
          "base_uri": "https://localhost:8080/"
        },
        "id": "PFQmAcZeq4ed",
        "outputId": "44fc1a93-5402-4299-8f33-25df62670f70"
      },
      "source": [
        "data.info()"
      ],
      "execution_count": null,
      "outputs": [
        {
          "output_type": "stream",
          "name": "stdout",
          "text": [
            "<class 'pandas.core.frame.DataFrame'>\n",
            "RangeIndex: 14640 entries, 0 to 14639\n",
            "Data columns (total 15 columns):\n",
            " #   Column                        Non-Null Count  Dtype  \n",
            "---  ------                        --------------  -----  \n",
            " 0   tweet_id                      14640 non-null  int64  \n",
            " 1   airline_sentiment             14640 non-null  object \n",
            " 2   airline_sentiment_confidence  14640 non-null  float64\n",
            " 3   negativereason                9178 non-null   object \n",
            " 4   negativereason_confidence     10522 non-null  float64\n",
            " 5   airline                       14640 non-null  object \n",
            " 6   airline_sentiment_gold        40 non-null     object \n",
            " 7   name                          14640 non-null  object \n",
            " 8   negativereason_gold           32 non-null     object \n",
            " 9   retweet_count                 14640 non-null  int64  \n",
            " 10  text                          14640 non-null  object \n",
            " 11  tweet_coord                   1019 non-null   object \n",
            " 12  tweet_created                 14640 non-null  object \n",
            " 13  tweet_location                9907 non-null   object \n",
            " 14  user_timezone                 9820 non-null   object \n",
            "dtypes: float64(2), int64(2), object(11)\n",
            "memory usage: 1.7+ MB\n"
          ]
        }
      ]
    },
    {
      "cell_type": "code",
      "metadata": {
        "id": "2ujumXtXtUE5",
        "colab": {
          "base_uri": "https://localhost:8080/"
        },
        "outputId": "5a0414f7-a1b4-4892-85d7-6a5145b1c5bd"
      },
      "source": [
        "data.isna().sum()"
      ],
      "execution_count": null,
      "outputs": [
        {
          "output_type": "execute_result",
          "data": {
            "text/plain": [
              "tweet_id                            0\n",
              "airline_sentiment                   0\n",
              "airline_sentiment_confidence        0\n",
              "negativereason                   5462\n",
              "negativereason_confidence        4118\n",
              "airline                             0\n",
              "airline_sentiment_gold          14600\n",
              "name                                0\n",
              "negativereason_gold             14608\n",
              "retweet_count                       0\n",
              "text                                0\n",
              "tweet_coord                     13621\n",
              "tweet_created                       0\n",
              "tweet_location                   4733\n",
              "user_timezone                    4820\n",
              "dtype: int64"
            ]
          },
          "metadata": {},
          "execution_count": 9
        }
      ]
    },
    {
      "cell_type": "code",
      "source": [
        "data.describe()"
      ],
      "metadata": {
        "colab": {
          "base_uri": "https://localhost:8080/",
          "height": 364
        },
        "id": "zqaIYZbw07wJ",
        "outputId": "87ccfa50-e96a-4021-f272-5da5b6b6d3d5"
      },
      "execution_count": null,
      "outputs": [
        {
          "output_type": "execute_result",
          "data": {
            "text/plain": [
              "           tweet_id  airline_sentiment_confidence  negativereason_confidence  \\\n",
              "count  1.464000e+04                  14640.000000               10522.000000   \n",
              "mean   5.692184e+17                      0.900169                   0.638298   \n",
              "std    7.791112e+14                      0.162830                   0.330440   \n",
              "min    5.675883e+17                      0.335000                   0.000000   \n",
              "25%    5.685592e+17                      0.692300                   0.360600   \n",
              "50%    5.694779e+17                      1.000000                   0.670600   \n",
              "75%    5.698905e+17                      1.000000                   1.000000   \n",
              "max    5.703106e+17                      1.000000                   1.000000   \n",
              "\n",
              "       retweet_count  \n",
              "count   14640.000000  \n",
              "mean        0.082650  \n",
              "std         0.745778  \n",
              "min         0.000000  \n",
              "25%         0.000000  \n",
              "50%         0.000000  \n",
              "75%         0.000000  \n",
              "max        44.000000  "
            ],
            "text/html": [
              "\n",
              "  <div id=\"df-c1d1c7fc-cbef-4c8c-8d41-758bfb5ee725\">\n",
              "    <div class=\"colab-df-container\">\n",
              "      <div>\n",
              "<style scoped>\n",
              "    .dataframe tbody tr th:only-of-type {\n",
              "        vertical-align: middle;\n",
              "    }\n",
              "\n",
              "    .dataframe tbody tr th {\n",
              "        vertical-align: top;\n",
              "    }\n",
              "\n",
              "    .dataframe thead th {\n",
              "        text-align: right;\n",
              "    }\n",
              "</style>\n",
              "<table border=\"1\" class=\"dataframe\">\n",
              "  <thead>\n",
              "    <tr style=\"text-align: right;\">\n",
              "      <th></th>\n",
              "      <th>tweet_id</th>\n",
              "      <th>airline_sentiment_confidence</th>\n",
              "      <th>negativereason_confidence</th>\n",
              "      <th>retweet_count</th>\n",
              "    </tr>\n",
              "  </thead>\n",
              "  <tbody>\n",
              "    <tr>\n",
              "      <th>count</th>\n",
              "      <td>1.464000e+04</td>\n",
              "      <td>14640.000000</td>\n",
              "      <td>10522.000000</td>\n",
              "      <td>14640.000000</td>\n",
              "    </tr>\n",
              "    <tr>\n",
              "      <th>mean</th>\n",
              "      <td>5.692184e+17</td>\n",
              "      <td>0.900169</td>\n",
              "      <td>0.638298</td>\n",
              "      <td>0.082650</td>\n",
              "    </tr>\n",
              "    <tr>\n",
              "      <th>std</th>\n",
              "      <td>7.791112e+14</td>\n",
              "      <td>0.162830</td>\n",
              "      <td>0.330440</td>\n",
              "      <td>0.745778</td>\n",
              "    </tr>\n",
              "    <tr>\n",
              "      <th>min</th>\n",
              "      <td>5.675883e+17</td>\n",
              "      <td>0.335000</td>\n",
              "      <td>0.000000</td>\n",
              "      <td>0.000000</td>\n",
              "    </tr>\n",
              "    <tr>\n",
              "      <th>25%</th>\n",
              "      <td>5.685592e+17</td>\n",
              "      <td>0.692300</td>\n",
              "      <td>0.360600</td>\n",
              "      <td>0.000000</td>\n",
              "    </tr>\n",
              "    <tr>\n",
              "      <th>50%</th>\n",
              "      <td>5.694779e+17</td>\n",
              "      <td>1.000000</td>\n",
              "      <td>0.670600</td>\n",
              "      <td>0.000000</td>\n",
              "    </tr>\n",
              "    <tr>\n",
              "      <th>75%</th>\n",
              "      <td>5.698905e+17</td>\n",
              "      <td>1.000000</td>\n",
              "      <td>1.000000</td>\n",
              "      <td>0.000000</td>\n",
              "    </tr>\n",
              "    <tr>\n",
              "      <th>max</th>\n",
              "      <td>5.703106e+17</td>\n",
              "      <td>1.000000</td>\n",
              "      <td>1.000000</td>\n",
              "      <td>44.000000</td>\n",
              "    </tr>\n",
              "  </tbody>\n",
              "</table>\n",
              "</div>\n",
              "      <button class=\"colab-df-convert\" onclick=\"convertToInteractive('df-c1d1c7fc-cbef-4c8c-8d41-758bfb5ee725')\"\n",
              "              title=\"Convert this dataframe to an interactive table.\"\n",
              "              style=\"display:none;\">\n",
              "        \n",
              "  <svg xmlns=\"http://www.w3.org/2000/svg\" height=\"24px\"viewBox=\"0 0 24 24\"\n",
              "       width=\"24px\">\n",
              "    <path d=\"M0 0h24v24H0V0z\" fill=\"none\"/>\n",
              "    <path d=\"M18.56 5.44l.94 2.06.94-2.06 2.06-.94-2.06-.94-.94-2.06-.94 2.06-2.06.94zm-11 1L8.5 8.5l.94-2.06 2.06-.94-2.06-.94L8.5 2.5l-.94 2.06-2.06.94zm10 10l.94 2.06.94-2.06 2.06-.94-2.06-.94-.94-2.06-.94 2.06-2.06.94z\"/><path d=\"M17.41 7.96l-1.37-1.37c-.4-.4-.92-.59-1.43-.59-.52 0-1.04.2-1.43.59L10.3 9.45l-7.72 7.72c-.78.78-.78 2.05 0 2.83L4 21.41c.39.39.9.59 1.41.59.51 0 1.02-.2 1.41-.59l7.78-7.78 2.81-2.81c.8-.78.8-2.07 0-2.86zM5.41 20L4 18.59l7.72-7.72 1.47 1.35L5.41 20z\"/>\n",
              "  </svg>\n",
              "      </button>\n",
              "      \n",
              "  <style>\n",
              "    .colab-df-container {\n",
              "      display:flex;\n",
              "      flex-wrap:wrap;\n",
              "      gap: 12px;\n",
              "    }\n",
              "\n",
              "    .colab-df-convert {\n",
              "      background-color: #E8F0FE;\n",
              "      border: none;\n",
              "      border-radius: 50%;\n",
              "      cursor: pointer;\n",
              "      display: none;\n",
              "      fill: #1967D2;\n",
              "      height: 32px;\n",
              "      padding: 0 0 0 0;\n",
              "      width: 32px;\n",
              "    }\n",
              "\n",
              "    .colab-df-convert:hover {\n",
              "      background-color: #E2EBFA;\n",
              "      box-shadow: 0px 1px 2px rgba(60, 64, 67, 0.3), 0px 1px 3px 1px rgba(60, 64, 67, 0.15);\n",
              "      fill: #174EA6;\n",
              "    }\n",
              "\n",
              "    [theme=dark] .colab-df-convert {\n",
              "      background-color: #3B4455;\n",
              "      fill: #D2E3FC;\n",
              "    }\n",
              "\n",
              "    [theme=dark] .colab-df-convert:hover {\n",
              "      background-color: #434B5C;\n",
              "      box-shadow: 0px 1px 3px 1px rgba(0, 0, 0, 0.15);\n",
              "      filter: drop-shadow(0px 1px 2px rgba(0, 0, 0, 0.3));\n",
              "      fill: #FFFFFF;\n",
              "    }\n",
              "  </style>\n",
              "\n",
              "      <script>\n",
              "        const buttonEl =\n",
              "          document.querySelector('#df-c1d1c7fc-cbef-4c8c-8d41-758bfb5ee725 button.colab-df-convert');\n",
              "        buttonEl.style.display =\n",
              "          google.colab.kernel.accessAllowed ? 'block' : 'none';\n",
              "\n",
              "        async function convertToInteractive(key) {\n",
              "          const element = document.querySelector('#df-c1d1c7fc-cbef-4c8c-8d41-758bfb5ee725');\n",
              "          const dataTable =\n",
              "            await google.colab.kernel.invokeFunction('convertToInteractive',\n",
              "                                                     [key], {});\n",
              "          if (!dataTable) return;\n",
              "\n",
              "          const docLinkHtml = 'Like what you see? Visit the ' +\n",
              "            '<a target=\"_blank\" href=https://colab.research.google.com/notebooks/data_table.ipynb>data table notebook</a>'\n",
              "            + ' to learn more about interactive tables.';\n",
              "          element.innerHTML = '';\n",
              "          dataTable['output_type'] = 'display_data';\n",
              "          await google.colab.output.renderOutput(dataTable, element);\n",
              "          const docLink = document.createElement('div');\n",
              "          docLink.innerHTML = docLinkHtml;\n",
              "          element.appendChild(docLink);\n",
              "        }\n",
              "      </script>\n",
              "    </div>\n",
              "  </div>\n",
              "  "
            ]
          },
          "metadata": {},
          "execution_count": 10
        }
      ]
    },
    {
      "cell_type": "markdown",
      "source": [
        "# Understanding more about data using visualisation"
      ],
      "metadata": {
        "id": "4taFkH2h1Mgm"
      }
    },
    {
      "cell_type": "code",
      "source": [
        "\n",
        "\n",
        "data.airline.value_counts().plot(kind='bar')\n",
        "\n"
      ],
      "metadata": {
        "colab": {
          "base_uri": "https://localhost:8080/",
          "height": 349
        },
        "id": "9QLGr4NQ1AA9",
        "outputId": "26217216-4811-4053-d71c-7cd85109902a"
      },
      "execution_count": null,
      "outputs": [
        {
          "output_type": "execute_result",
          "data": {
            "text/plain": [
              "<matplotlib.axes._subplots.AxesSubplot at 0x7ff85e1c9450>"
            ]
          },
          "metadata": {},
          "execution_count": 11
        },
        {
          "output_type": "display_data",
          "data": {
            "text/plain": [
              "<Figure size 432x288 with 1 Axes>"
            ],
            "image/png": "[encoded data removed]"
          },
          "metadata": {
            "needs_background": "light"
          }
        }
      ]
    },
    {
      "cell_type": "markdown",
      "source": [
        " Most of the flights are of United\n",
        " "
      ],
      "metadata": {
        "id": "Munb2ptu1Ue-"
      }
    },
    {
      "cell_type": "code",
      "source": [
        "data.airline_sentiment.value_counts().plot(kind='bar')"
      ],
      "metadata": {
        "colab": {
          "base_uri": "https://localhost:8080/",
          "height": 316
        },
        "id": "e_nKsr8k1ApV",
        "outputId": "2be61d71-d2fb-49b6-96a4-23ed017ae09c"
      },
      "execution_count": null,
      "outputs": [
        {
          "output_type": "execute_result",
          "data": {
            "text/plain": [
              "<matplotlib.axes._subplots.AxesSubplot at 0x7ff85e103fd0>"
            ]
          },
          "metadata": {},
          "execution_count": 13
        },
        {
          "output_type": "display_data",
          "data": {
            "text/plain": [
              "<Figure size 432x288 with 1 Axes>"
            ],
            "image/png": "[encoded data removed]"
          },
          "metadata": {
            "needs_background": "light"
          }
        }
      ]
    },
    {
      "cell_type": "code",
      "source": [
        "data.airline_sentiment.value_counts().plot(kind='pie',autopct='%1.0f')"
      ],
      "metadata": {
        "colab": {
          "base_uri": "https://localhost:8080/",
          "height": 265
        },
        "id": "5v1t3-LC1BUK",
        "outputId": "d4998b5e-cc8e-4383-ea99-55ff9e667557"
      },
      "execution_count": null,
      "outputs": [
        {
          "output_type": "execute_result",
          "data": {
            "text/plain": [
              "<matplotlib.axes._subplots.AxesSubplot at 0x7ff85dbc2050>"
            ]
          },
          "metadata": {},
          "execution_count": 14
        },
        {
          "output_type": "display_data",
          "data": {
            "text/plain": [
              "<Figure size 432x288 with 1 Axes>"
            ],
            "image/png": "[encoded data removed]"
          },
          "metadata": {}
        }
      ]
    },
    {
      "cell_type": "markdown",
      "source": [
        "63% of the sentiments ar negative, 16% are positive and the rest all(21%) are neutral."
      ],
      "metadata": {
        "id": "nh_oDmoq1iqW"
      }
    },
    {
      "cell_type": "code",
      "source": [
        "sns.countplot(x='airline',hue='airline_sentiment',data=data,palette='rainbow')"
      ],
      "metadata": {
        "colab": {
          "base_uri": "https://localhost:8080/",
          "height": 296
        },
        "id": "Q0f0UfP-1BxS",
        "outputId": "4a931403-37ab-489b-ce23-62a0a3a08f22"
      },
      "execution_count": null,
      "outputs": [
        {
          "output_type": "execute_result",
          "data": {
            "text/plain": [
              "<matplotlib.axes._subplots.AxesSubplot at 0x7ff85db23e50>"
            ]
          },
          "metadata": {},
          "execution_count": 15
        },
        {
          "output_type": "display_data",
          "data": {
            "text/plain": [
              "<Figure size 432x288 with 1 Axes>"
            ],
            "image/png": "[encoded data removed]"
          },
          "metadata": {
            "needs_background": "light"
          }
        }
      ]
    },
    {
      "cell_type": "code",
      "source": [
        "sns.barplot(x='airline_sentiment',y='airline_sentiment_confidence',data=data)"
      ],
      "metadata": {
        "colab": {
          "base_uri": "https://localhost:8080/",
          "height": 297
        },
        "id": "AYS0pFvR1Cd2",
        "outputId": "a0fb2c4c-7420-4e49-e3ba-184c20708153"
      },
      "execution_count": null,
      "outputs": [
        {
          "output_type": "execute_result",
          "data": {
            "text/plain": [
              "<matplotlib.axes._subplots.AxesSubplot at 0x7ff85da5f310>"
            ]
          },
          "metadata": {},
          "execution_count": 16
        },
        {
          "output_type": "display_data",
          "data": {
            "text/plain": [
              "<Figure size 432x288 with 1 Axes>"
            ],
            "image/png": "[encoded data removed]"
          },
          "metadata": {
            "needs_background": "light"
          }
        }
      ]
    },
    {
      "cell_type": "markdown",
      "source": [
        "Confidence on the negative sentiment is highest followed by positive and neutral sentiments"
      ],
      "metadata": {
        "id": "iKgu8EXQ1pVp"
      }
    },
    {
      "cell_type": "code",
      "source": [
        "sns.boxplot(x='airline',y='airline_sentiment_confidence',data=data)"
      ],
      "metadata": {
        "colab": {
          "base_uri": "https://localhost:8080/",
          "height": 296
        },
        "id": "8vNzqQc31C-U",
        "outputId": "1a098e32-7f15-465f-fd30-a5df1c318c67"
      },
      "execution_count": null,
      "outputs": [
        {
          "output_type": "execute_result",
          "data": {
            "text/plain": [
              "<matplotlib.axes._subplots.AxesSubplot at 0x7ff85da45e50>"
            ]
          },
          "metadata": {},
          "execution_count": 17
        },
        {
          "output_type": "display_data",
          "data": {
            "text/plain": [
              "<Figure size 432x288 with 1 Axes>"
            ],
            "image/png": "[encoded data removed]"
          },
          "metadata": {
            "needs_background": "light"
          }
        }
      ]
    },
    {
      "cell_type": "markdown",
      "source": [
        "# Cleaning and preparing the data"
      ],
      "metadata": {
        "id": "NN9CrRfq1xd7"
      }
    },
    {
      "cell_type": "code",
      "source": [
        "comments = data.iloc[:,10].values\n",
        "Labels = data.iloc[:,1].values"
      ],
      "metadata": {
        "id": "cz54Kvw91tCf"
      },
      "execution_count": 50,
      "outputs": []
    },
    {
      "cell_type": "code",
      "source": [
        "processed_Features = []\n",
        "\n",
        "for sentence in range(len(comments)):\n",
        "    #remove all the special character\n",
        "    processed_Feature = re.sub(r'\\W',' ',str(comments[sentence]))\n",
        "\n",
        "    #remove all single characters\n",
        "    processed_Feature = re.sub(r'\\s+[a-zA-Z]\\s+',' ',processed_Feature)\n",
        "\n",
        "    #remove single characters from the start\n",
        "    processed_Feature = re.sub(r'\\^[a-zA-Z]\\s+',' ',processed_Feature)\n",
        "\n",
        "    #substituting multiple spaces with single space\n",
        "    processed_Feature = re.sub(r'\\s+',' ',processed_Feature,flags=re.I)\n",
        "\n",
        "    #Removing prefixed 'b'\n",
        "    processed_Feature = re.sub(r'^b\\s+', ' ',processed_Feature)\n",
        "\n",
        "    #converrting into lowercase\n",
        "    processed_Feature = processed_Feature.lower()\n",
        "    \n",
        "    processed_Features.append(processed_Feature)"
      ],
      "metadata": {
        "id": "pl5I0ckh1tcy"
      },
      "execution_count": 51,
      "outputs": []
    },
    {
      "cell_type": "code",
      "source": [
        "processed_Features"
      ],
      "metadata": {
        "colab": {
          "base_uri": "https://localhost:8080/"
        },
        "id": "7uncpIpH1tvs",
        "outputId": "c398c1ad-3a99-4907-a14f-df458dd3b1a8"
      },
      "execution_count": 52,
      "outputs": [
        {
          "output_type": "execute_result",
          "data": {
            "text/plain": [
              "[' virginamerica what dhepburn said ',\n",
              " ' virginamerica plus you ve added commercials to the experience tacky ',\n",
              " ' virginamerica didn today must mean need to take another trip ',\n",
              " ' virginamerica it really aggressive to blast obnoxious entertainment in your guests faces amp they have little recourse',\n",
              " ' virginamerica and it a really big bad thing about it',\n",
              " ' virginamerica seriously would pay 30 flight for seats that didn have this playing it really the only bad thing about flying va',\n",
              " ' virginamerica yes nearly every time fly vx this ear worm won go away ',\n",
              " ' virginamerica really missed prime opportunity for men without hats parody there https co mwpg7grezp',\n",
              " ' virginamerica well didn but now do d',\n",
              " ' virginamerica it was amazing and arrived an hour early you re too good to me ',\n",
              " ' virginamerica did you know that suicide is the second leading cause of death among teens 10 24',\n",
              " ' virginamerica lt 3 pretty graphics so much better than minimal iconography d',\n",
              " ' virginamerica this is such great deal already thinking about my 2nd trip to australia amp haven even gone on my 1st trip yet p',\n",
              " ' virginamerica virginmedia m flying your fabulous seductive skies again take all the stress away from travel http co ahlxhhkiyn',\n",
              " ' virginamerica thanks ',\n",
              " ' virginamerica sfo pdx schedule is still mia ',\n",
              " ' virginamerica so excited for my first cross country flight lax to mco ve heard nothing but great things about virgin america 29daystogo',\n",
              " ' virginamerica flew from nyc to sfo last week and couldn fully sit in my seat due to two large gentleman on either side of me help ',\n",
              " 'i flying virginamerica ',\n",
              " ' virginamerica you know what would be amazingly awesome bos fll please want to fly with only you ',\n",
              " ' virginamerica why are your first fares in may over three times more than other carriers when all seats are available to select ',\n",
              " ' virginamerica love this graphic http co ut5grrwaaa',\n",
              " ' virginamerica love the hipster innovation you are feel good brand ',\n",
              " ' virginamerica will you be making bos gt las non stop permanently anytime soon ',\n",
              " ' virginamerica you guys messed up my seating reserved seating with my friends and you guys gave my seat away want free internet',\n",
              " ' virginamerica status match program applied and it been three weeks called and emailed with no response ',\n",
              " ' virginamerica what happened 2 ur vegan food options at least say on ur site so know won be able 2 eat anything for next 6 hrs fail',\n",
              " ' virginamerica do you miss me don worry we ll be together very soon ',\n",
              " ' virginamerica amazing to me that we can get any cold air from the vents vx358 noair worstflightever roasted sfotobos',\n",
              " ' virginamerica lax to ewr middle seat on red eye such noob maneuver sendambien andchexmix',\n",
              " ' virginamerica hi just bked cool birthday trip with you but can add my elevate no cause entered my middle name during flight booking problems ',\n",
              " ' virginamerica are the hours of operation for the club at sfo that are posted online current ',\n",
              " ' virginamerica help left expensive headphones on flight 89 iad to lax today seat 2a no one answering amp number at lax ',\n",
              " ' virginamerica awaiting my return phone call just would prefer to use your online self service option ',\n",
              " ' virginamerica this is great news america could start flights to hawaii by end of year http co r8p2zy3fe4 via pacificbiznews',\n",
              " 'nice rt virginamerica vibe with the moodlight from takeoff to touchdown moodlitmonday sciencebehindtheexperience http co y7o0unxtqp',\n",
              " ' virginamerica moodlighting is the only way to fly best experience ever cool and calming moodlitmonday',\n",
              " ' virginamerica freddieawards done and done best airline around hands down ',\n",
              " ' virginamerica when can book my flight to hawaii ',\n",
              " ' virginamerica your chat support is not working on your site http co vhp2gtdwpk',\n",
              " ' virginamerica view of downtown los angeles the hollywood sign and beyond that rain in the mountains http co dw5nf0ibtr',\n",
              " ' virginamerica hey first time flyer next week excited but m having hard time getting my flights added to my elevate account help ',\n",
              " ' virginamerica plz help me win my bid upgrade for my flight 2 27 lax gt sea ',\n",
              " ' virginamerica have an unused ticket but moved to new city where you don fly how can fly with you before it expires travelhelp',\n",
              " ' virginamerica are flights leaving dallas for seattle on time feb 24 ',\n",
              " ' virginamerica m elevategold for good reason you rock ',\n",
              " ' virginamerica dream http co oa2drfaoq2 http co lwwdac2khx',\n",
              " ' virginamerica wow this just blew my mind',\n",
              " ' virginamerica ladygaga carrieunderwood after last night tribute soundofmusic oscars2015 ladygaga think carrieunderwood agree',\n",
              " ' virginamerica ladygaga carrieunderwood all were entertaining',\n",
              " ' virginamerica is flight 769 on it way was supposed to take off 30 minutes ago website still shows on time not in flight thanks ',\n",
              " ' virginamerica ladygaga carrieunderwood julie andrews all the way though ladygaga was very impressive no to carrieunderwood',\n",
              " ' virginamerica wish you flew out of atlanta soon ',\n",
              " ' virginamerica ladygaga carrieunderwood julie andrews hands down ',\n",
              " ' virginamerica will flights be leaving dallas for la on february 24th ',\n",
              " ' virginamerica hi m so excited about your 99 lga gt dal deal but ve been trying 2 book since last week amp the page never loads thx ',\n",
              " ' virginamerica you know it need it on my spotify stat guiltypleasures',\n",
              " ' virginamerica ladygaga carrieunderwood m lady gaga she is amazing ',\n",
              " ' virginamerica ladygaga carrieunderwood carrie ',\n",
              " ' virginamerica new marketing song https co f2lfulcbq7 let us know what you think ',\n",
              " ' virginamerica ladygaga carrieunderwood julie andrews first but lady gaga wow me last night carrie meh ',\n",
              " ' virginamerica called 3 4 weeks ago about adding 3 flights from 2014 to my elevate they still haven shown up help ',\n",
              " ' virginamerica ladygaga carrieunderwood all are great but have to go with carrieunderwood ',\n",
              " ' virginamerica ladygaga carrieunderwood sorry mary martin had it first ',\n",
              " ' virginamerica ladygaga carrieunderwood love all three but you really can beat the classics ',\n",
              " ' virginamerica flight 0736 dal to dca 2 24 2 10pm tried to check in could not status please ',\n",
              " ' virginamerica heyyyy guyyyys been trying to get through for an hour can someone call me please ',\n",
              " ' virginamerica hi virgin m on hold for 40 50 minutes are there any earlier flights from la to nyc tonight earlier than 11 50pm ',\n",
              " ' virginamerica congrats on winning the travelzoo award for best deals from an airline us http co kj1iljaebv',\n",
              " ' virginamerica everything was fine until you lost my bag',\n",
              " ' virginamerica need to change reservation have virgin credit card do need to modify on phone to waive change fee or can do online ',\n",
              " ' virginamerica emailed your customer service team let me know if you need the tracking number ',\n",
              " ' virginamerica hi just booked flight but need to add baggage how can do this ',\n",
              " ' virginamerica your airline is awesome but your lax loft needs to step up its game 40 for dirty tables and floors http co hy0vrfhjht',\n",
              " ' virginamerica not worried it been great ride in new plane with great crew all airlines should be like this ',\n",
              " ' virginamerica awesome flew yall sat morning any way we can correct my bill ',\n",
              " ' virginamerica or watch some of the best student films in the country at 35 000 feet cmfat35000feet http co kek5pdmgif',\n",
              " ' virginamerica first time flying you all do you have different rate policy for media bags thanks',\n",
              " ' virginamerica what is going on with customer service is there anyway to speak to human asap thank you ',\n",
              " ' virginamerica what happened to doom ',\n",
              " ' virginamerica why can you supp the biz traveler like southwestair and have customer service like jetblue neverflyvirginforbusiness',\n",
              " ' virginamerica ve applied more then once to be member of the inflight crew team im 100 interested flightattendant dreampath g',\n",
              " ' virginamerica you re the best whenever begrudgingly use any other airline m delayed and late flight ',\n",
              " ' virginamerica have no interesting flying with you after this will cancelled flight my next four flights planned neverflyvirginforbusiness',\n",
              " ' virginamerica it was disappointing experience which will be shared with every business traveler meet neverflyvirgin',\n",
              " ' virginamerica m having trouble adding this flight my wife booked to my elevate account help http co px8hqoks3r',\n",
              " ' virginamerica can bring up my reservation online using flight booking problems code',\n",
              " ' virginamerica random what the distribution of elevate avatars bet that kitty has disproportionate share http co aptzpurop4',\n",
              " ' virginamerica lt 3 flying va but life happens and am trying to change my trip jperhi can you help va home page will not let me ',\n",
              " ' virginamerica why is the site down when will it be back up ',\n",
              " ' virginamerica you down with rnp yeah you know me ',\n",
              " ' virginamerica hi did not get points on my elevate account for my most recent flight how do add the flight and points to my account ',\n",
              " ' virginamerica like the tv and interesting video just disappointed in cancelled flightled flight when other flights went out to jfk on saturday ',\n",
              " ' virginamerica just landed in lax an hour after should of been here your no late flight bag check is not business travel friendly nomorevirgin',\n",
              " ' virginamerica why is flight 345 redirected ',\n",
              " ' virginamerica is it me or is your website down btw your new website isn a great user experience time for another redesign ',\n",
              " ' virginamerica can check in or add bag your website isn working ve tried both desktop and mobile http co avyqdmpi1y',\n",
              " ' virginamerica let 2 scanned in passengers leave the plane than told someone to remove their bag from 1st class bin uncomfortable',\n",
              " ' virginamerica what is your phone number can find who to call about flight reservation ',\n",
              " ' virginamerica is anyone doing anything there today website is useless and no one is answering the phone ',\n",
              " ' virginamerica trying to add my boy prince to my ressie sf this thursday virginamerica from lax http co gsb2j3c4gm',\n",
              " ' virginamerica why must traveler miss flight to late flight check bag missed my morning appointments and you lost my business sfo2lax',\n",
              " ' virginamerica check out new music http co marcnocwzn',\n",
              " ' virginamerica how a direct flight fll gt sfo have unexpected layover in vegas 4 fuel yet peeps next to me bought for vegas flight sneaky',\n",
              " ' virginamerica your no late flight bag check just lost you my business missed flight and am apt three other people on flight had same exp ',\n",
              " ' virginamerica amazing customer service again raeann in sf she the best customerservice virginamerica flying',\n",
              " ' virginamerica called your service line and was hung up on this is awesome sarcasm',\n",
              " ' virginamerica your site is tripping m trying to check in and m getting the plain text version am reluctant to enter any card info ',\n",
              " ' virginamerica was scheduled for sfo 2 dal flight 714 today changed to 24th due weather looks like flight still on ',\n",
              " ' virginamerica has getaway deals through may from 59 one way lots of cool cities http co tzzjhuibch cheapflights farecompare',\n",
              " ' virginamerica has getaway deals through may from 59 one way lots of cool cities http co rpdbpx3wnd cheapflights farecompare',\n",
              " ' virginamerica has getaway deals through may from 59 one way lots of cool cities http co b2xi4yg5t8 cheapflights farecompare',\n",
              " ' virginamerica has getaway deals through may from 59 one way lots of cool cities http co qdljhsloi5 cheapflights farecompare',\n",
              " ' virginamerica have great week ',\n",
              " ' virginamerica come back to phl already we need you to take us out of this horrible cold pleasecomeback http co glxfwp6nqh',\n",
              " ' virginamerica should be concerned that am about to fly on plane that needs to be delayed due to tech stop ',\n",
              " ' virginamerica is the best airline have flown on easy to change your reservation helpful representatives amp comfortable flying experience',\n",
              " ' virginamerica and again another rep kicked butt naelah represents your team so beautifully thank you ',\n",
              " ' virginamerica your beautiful front end design is down right now but it was cool to still book my ticket c all your back end was secure ',\n",
              " ' virginamerica love the team running gate e9 at las tonight waited for delayed flight and they kept things entertaining',\n",
              " ' virginamerica use another browser 2015 amp brand with reputation built on tech response doesn have cross browser compatible website ',\n",
              " ' virginamerica and now the flight flight booking problems site is totally down folks what is the problem ',\n",
              " ' virginamerica like the customer service but 40 min delay just for connecting passengers seems too long va370',\n",
              " ' virginamerica thanks to your outstanding nyc jfk crew who moved mountains to get me home to san francisco tonight ',\n",
              " ' virginamerica you have the absolute best team and customer service ever every time fly with you m delighted thank you ',\n",
              " ' virginamerica do you provide complimentary upgrades to first class if there are available seats ',\n",
              " ' virginamerica need to change my flight thats scheduled in 9 hours and 120 min wait time on phone im calling intern help ',\n",
              " ' virginamerica completely awesome experience last month bos las nonstop thanks for such an awesome flight and depart time vabeatsjblue',\n",
              " ' virginamerica how can watch the oscars2015 on my jfk gt sfo flight ',\n",
              " ' virginamerica is flight 882 cancelled flightled and what do do if it is ',\n",
              " ' virginamerica you are failing your customers because your check in process does not link to tsa pre check ',\n",
              " ' virginamerica fidifamilies us too terrible airline just gave us hotel hotline number and said sorry',\n",
              " ' virginamerica has flight number 276 from sfo to cabo san lucas arrived yet ',\n",
              " ' virginamerica chrysichrysic your assistance yesterday when cancelled flightled our flight was to give us hotel hotline shame on you ',\n",
              " ' virginamerica another delayed flight likingyoulessandless',\n",
              " ' virginamerica need to register service dog for first class ticket from sfo gt dulles the phone queue is an hour or longer pls advise',\n",
              " ' virginamerica you rock for making it so can watch oscars on my flight redcarpet oscars oscars2015',\n",
              " ' virginamerica reallytallchris dropped track on you https co zv2pt6trk9',\n",
              " ' virginamerica always xoxo',\n",
              " ' virginamerica why can we book seats on your flights when we buy them or even during check in creates so much anxiety frustrated',\n",
              " ' virginamerica you think paying an extra 100 bucks rt for luggage might afford you hiring an extra hand at sfo lame',\n",
              " ' virginamerica best customer service rep in the world irmafromdallas takes the cake ',\n",
              " ' virginamerica can you find us flt out of lax that is sooner than midnight on monday that would be great customer service ',\n",
              " ' virginamerica please provide status for flight 769 cant imagine it on time as the web indicates dude to weather here and or dallas',\n",
              " ' virginamerica you have amazing staff amp super helpful as just ran the waltdisneyworld princesshalf they have spoiled me with comfort ',\n",
              " ' virginamerica paid the premium to fly you across the country you cancelled flight my flight and offer no check fee or upgrade love sad face ',\n",
              " ' virginamerica question is it not possible to book seat for an infant under 2 it not giving me the option but we want seat for him ',\n",
              " 'always have it together you re welcome rt virginamerica jessicajaymes you re so welcome ',\n",
              " ' virginamerica flight home to dc sunset globe in backtowinter back to work refreshed http co vx9vbctdlf',\n",
              " ' virginamerica don understand why you need dm to give me an answer on if you have damaged luggage policy ',\n",
              " ' virginamerica does that mean you don have policy for destroyed luggage ',\n",
              " ' virginamerica is there special assistance if travel alone 2 kids and 1 infant priority boarding ',\n",
              " ' virginamerica thank you for checking in tickets are purchased and customer is happy ',\n",
              " ' virginamerica is your website ever coming back online ',\n",
              " ' virginamerica is flight 713 from love field to sfo definitely cancelled flightled for monday february 23 ',\n",
              " ' virginamerica is flight 0769 out of lga to dfw on time ',\n",
              " ' virginamerica my drivers license is expired by little over month can fly friday morning using my expired license ',\n",
              " ' virginamerica having problems flight booking problems on the web site keeps giving me an error and to contact by phone phone is 30 minute wait ',\n",
              " ' virginamerica how do reschedule my cancelled flightled flights online the change button is greyed out ',\n",
              " ' virginamerica rang but there is wait for 35 minutes can book the same ticket through vendor fix your site',\n",
              " ' virginamerica got flight we were told for 4 50 today checked my email and its for 4 50 tomorrow this is unacceptable ',\n",
              " ' virginamerica our flight into lga was cancelled flighted we re stuck in dallas called to reschedule told could get flight for today 1 2 ',\n",
              " ' virginamerica why don any of the pairings include red wine only white is offered redwineisbetter',\n",
              " ' virginamerica is the website down ',\n",
              " ' virginamerica your site seems little wonked right now may want to have look tried on two browsers no css http co 8qsqmm7kf2',\n",
              " ' virginamerica m disappointed that the agent at the designated silver status check in line dulles_airport closed to assist all pasengers',\n",
              " ' virginamerica plans to include austin to its dallas route topnews arab emirates http co aqzwecokk2',\n",
              " ' virginamerica is it normal to receive no reply from central baggage baggageissues smh',\n",
              " ' virginamerica at logan airport and waiting to checkin for my 9am flight checkin desk not open why ',\n",
              " ' virginamerica to jump into the dallas austin market dallas_news http co ewwgi97gdx',\n",
              " ' virginamerica beats eps views takes on southwestair va luv investor business daily http co flwmgdahxu',\n",
              " ' virginamerica lister to my show my on monday 1230 130',\n",
              " ' virginamerica to begin dallas austin flights in april 88 9 ketr http co ssuvwwkyhh',\n",
              " ' virginamerica congrats you just got all my business from ewr to sfo lax fuck you united fl1289 sfo ewr was the clincher ',\n",
              " ' virginamerica applied over 2 weeks ago haven heard back and m flying this week disappointed',\n",
              " ' virginamerica d love to know what your policy is for damaged luggage ',\n",
              " ' virginamerica thank you for the follow',\n",
              " ' virginamerica too many apologies you the worse airlines don even respond to your cudtomers',\n",
              " ' virginamerica shame on va for making people spend money in stranded cities when other airlines are landing at jfk who will reimburse me ',\n",
              " ' virginamerica ttinac11 dm you',\n",
              " ' virginamerica can you please have flights in sjc have no choice but to fly southwest to vegas ',\n",
              " ' virginamerica too bad you say it takes 10 to 14 days via your confirmation email when inquired after 3 weeks you claim 6 to 8 weeks ',\n",
              " ' virginamerica flight from bos gt las tomorrow was cancelled flightled no notification wait times are 1 hour will you rebook on another airline ',\n",
              " ' rt virginamerica you ve met your match got status on another airline upgrade restr http co rhkamx9vf5 http co pyalebgkjt',\n",
              " ' virginamerica only way to fly elevate gold',\n",
              " ' virginamerica if only you guys had flights from cmh ',\n",
              " ' virginamerica lot of apologies being thrown out to customers from what can see very sad thanks for nothing worst airline ever ',\n",
              " ' virginamerica for all my flight stuff wrong and did nothing about it had worst flight ever',\n",
              " ' virginamerica having an issue finding missing item on plane can you help me find which airport my plane headed to next ',\n",
              " ' virginamerica you will match my americanairlines status cool ',\n",
              " ' virginamerica you ve met your match got status on another airline upgrade http co h952rdktqy asarco_es_ar ',\n",
              " ' virginamerica trying to book flight with you guys and your website won let me about to lose my business',\n",
              " ' virginamerica you suck ',\n",
              " ' virginamerica thanks ',\n",
              " ' virginamerica just dm same issue persisting ',\n",
              " ' virginamerica because we never rec cancelled flightlation notice we were left no options to fly out of ps driving to la for red eye mon kids',\n",
              " ' virginamerica trying to book flight amp your site is down ',\n",
              " ' virginamerica you have any flights flying into boston tomorrow need to be home and you cancelled flightled my flight and didn do anything',\n",
              " ' virginamerica you stink flight cancelled flighted from psp to jfk and no notification or ability to rebook disappointed expected better',\n",
              " ' virginamerica love your guy song we re dancing to it for our high school dance revue',\n",
              " ' virginamerica your website is down and m trying to check in ',\n",
              " ' virginamerica done thank you for the quick response apparently faster than sitting on hold ',\n",
              " ' virginamerica nervous about my flight from dc to lax getting cancelled flightled tomorrow just sent you dm to help me ',\n",
              " ' virginamerica cool picture of another virginamerica plane off our wing what site http co 5b2agfd8c4',\n",
              " ' virginamerica keep up the great work ',\n",
              " ' virginamerica my goodness your people love field are amazing under pressure from texas beatstheothers in crisis please fly me to ny',\n",
              " ' virginamerica thanks for great flight from la to boston pilots did great job landing in the snow can we go back to la now seriously',\n",
              " ' virginamerica can you please get me to the new york area before monday afternoon',\n",
              " ' virginamerica thanks so much for the awesome support you guys rock ',\n",
              " ' virginamerica seats in row 8 don recline should mention that on your website soreback',\n",
              " ' virginamerica flight 404 delayed 2 hours in la due to mechanical problems handle like pros but you could have tossed us free drink ',\n",
              " ' virginamerica why cancelled flight flights today no precipitation to be scared of ',\n",
              " ' virginamerica twitter team you guys killed it for rescheduling me asap thank you ',\n",
              " ' virginamerica you guys charged me 100 to reschedule flight that was then cancelled flighted and are now refusing to refund it what the deal ',\n",
              " ' virginamerica can access your website from safari on iphone 6 seems to work on mac and ipad need iphone to add passbook ',\n",
              " ' virginamerica on ipad and iphone clicking the checkin link in the email received at 24hrs before flight',\n",
              " ' virginamerica your mobile site is broken shows header elevateuser numofpointsavailable 0 number points won let me checkin',\n",
              " ' virginamerica was really looking forward to my flight can you let me know when it will be rescheduled diehardvirgin',\n",
              " ' virginamerica why cancelled flight flight vx413 one sec its delayed on my to airport the next its cancelled flightled gonna email or call me to reschedule ',\n",
              " ' virginamerica did it but there was problem in the link from the email for check in thanks',\n",
              " ' virginamerica had to change to another airline to get to dc today why is united able to land in dc but not you cost me 800 ugh',\n",
              " ' virginamerica was so looking forward to my first flight with you today but it was cancelled flightled along with the subsequent one ',\n",
              " ' virginamerica when are you putting some great deals from pdx to las or from las to pdx show me your love http co eniqg0buzj',\n",
              " ' virginamerica wish can afford to fly with you next friday going back home love everything about your airline',\n",
              " ' virginamerica how are you gonna have deal from dallas to dc but no deal from dc to dallas sad',\n",
              " ' virginamerica it just bug report guys',\n",
              " ' virginamerica hold times at call center are bit much',\n",
              " ' virginamerica like http co vpqem31xuq',\n",
              " ' virginamerica site down help',\n",
              " ' virginamerica you have the best flight attendant ever http co pxdel1nq3l',\n",
              " 'awesome rt virginamerica watch nominated films at 35 000 feet meetthefleet oscars http co dnstitrzwy',\n",
              " ' virginamerica thanks so much ',\n",
              " ' virginamerica trying to reset my password email never arrives help ',\n",
              " ' virginamerica the only airline based in silicon valley disruption fcmostinnovative incubator fastcompany http co wu3lbcncr9',\n",
              " ' virginamerica very nicely done ',\n",
              " ' virginamerica m looking forward to watching the oscars on my flight home tomorrow might even get something bubbly to drink ',\n",
              " ' virginamerica what is the reason for the delay of the departure of vx 413 from jfk this afternoon ',\n",
              " ' virginamerica is todays flight from palm springs ca to jfk in ny cancelled flightled ',\n",
              " ' virginamerica hahaha virginamerica you guys are amazing love you guys ',\n",
              " ' virginamerica sounds like fun ',\n",
              " ' virginamerica any updates on flight 413 from jfk gt lax',\n",
              " ' virginamerica spruce moose ',\n",
              " ' virginamerica the css on your site is 404 right now please fix site unusable ',\n",
              " ' virginamerica we re on flight 910 vegas to boston today checked in online but our bag count didn register can fix that somehow ',\n",
              " ' virginamerica classiq luv virgin america greetingz',\n",
              " ' virginamerica hi m trying to do check in but the website is not working tried 3 different browsers and the problem continues',\n",
              " ' virginamerica thanks for your great customer service today amp for helping me get all my travel sorted out ',\n",
              " ' virginamerica thanks guys sweet route over the rockies airplanemodewason',\n",
              " ' virginamerica love the 90s music blasting at gate in boston while waiting for flight to sanfrancisco only if could get an iced coffee ',\n",
              " ' virginamerica the passenger in 7d flt 338 that assaulted me shouldn have flown trust he banned crew filed report to faanews',\n",
              " ' virginamerica current bug on website shows select departure city when selecting destination city http co sllyibe2vq',\n",
              " ' virginamerica luggage was severely dented missing wheel coming off baggage claim in san luggage agent miranda think wasn any help ',\n",
              " ' virginamerica thank you for the easy itinerary shift for impending weather quick painless amp free ',\n",
              " ' virginamerica if you love to see more girls be inspired to become pilots rt our free woaw event march 2 8 at abq http co rfxlv1kgdh',\n",
              " ' virginamerica thanks good times there and back vodkatonics the entire flight sfo',\n",
              " ' virginamerica beats expectations shares take off santa cruz sentinel http co qm9dqbai6g',\n",
              " ' virginamerica any plans to start flying direct from dal to las ',\n",
              " ' virginamerica big love gratitude mpower http co 1agr9kncpf werin oscars2105 vipswagbags avalonhollywood http co ybmbgs0dhn',\n",
              " ' virginamerica you re doing great job adding little luxuries aesthetics that improve the air travel experience thank you keep it up ',\n",
              " ' virginamerica requested window seat and confirmed window but got stuck in middle seat not good way to treat silver member ',\n",
              " ' virginamerica grand budapest hotel oscarscountdown',\n",
              " ' virginamerica this is what you missed newsvp next trip to the 407 ',\n",
              " ' virginamerica wtf paid for direct flight on purpose not to have to stop for fuel exhausted frequent flier and nothing for inconvenience ',\n",
              " ' virginamerica there is something wrong with you website in safari iphone',\n",
              " ' virginamerica thanks for gate checking my baggage on your full flight dfw lax 883 and giving me early boarding too sweet',\n",
              " ' virginamerica already checked in so the page expired x',\n",
              " ' virginamerica boo for not refunding seat upgrade fee did not want to buy in the first place ',\n",
              " ' virginamerica shares rise on q4 financial results usa today http co lfs4pefe6y',\n",
              " ' virginamerica adds pillows instead of lie flat seats in first class arms race http co rgywjbbhm4',\n",
              " ' virginamerica see what you did there ',\n",
              " ' virginamerica way to take advantage of mayweatherpacquiao ',\n",
              " ' virginamerica you know m flying virgin for the fight mayweatherpacquiao',\n",
              " ' virginamerica your inflight team makes the experience amazing ',\n",
              " ' virginamerica cutest salt and pepper shaker ever just when think you guys can get any better you just do http co vc6keulg2j',\n",
              " ' virginamerica moved my seat with no notice better seat is cabin select not behind the row selected disappointed',\n",
              " ' virginamerica shares up on 4q results iol http co xz6qeg3nef',\n",
              " ' virginamerica fav airline',\n",
              " ' virginamerica we have hot female pilot sweet dca to sfo ',\n",
              " ' when are you guys going to start flying to paris virginamerica lizautter you re welcome ',\n",
              " ' virginamerica what is your policy on flying after surgery am still waiting for answer so can tell me doctor ',\n",
              " ' virginamerica already contacted central baggage amp sent dm renttherunway is charging me for the dress that was in the lost suitcase help',\n",
              " ' virginamerica thank you ',\n",
              " ' virginamerica is there anything going on with the website ve been getting lot of errors past 30 minutes ',\n",
              " ' virginamerica think left something on the plane yesterday who do call ah ',\n",
              " ' virginamerica need you to follow back in order to dm ',\n",
              " ' virginamerica need to start flying to kciairport ',\n",
              " ' virginamerica they told to check with the airline regulation first so that is why contacted you ',\n",
              " ' virginamerica virginatlantic have just checked in flight to sfo from lax amp been told as atlantic flying club gold get no benefits ',\n",
              " ' virginamerica husband and ordered three drinks via my screen and they never came awesome ',\n",
              " ' virginamerica soooo are you guys going to leave the seatbelt light on all flight you can barely call this turbulence ',\n",
              " ' virginamerica what is your policy on flying after surgery ',\n",
              " ' virginamerica posts second consecutive full year net profit atwonline http co tvb5zbzvhg',\n",
              " ' virginamerica funny story your website is broken you have missing javascript and stylesheets on the checkin process dislike this ',\n",
              " ' virginamerica would love to do more for virgin just like do for gopro',\n",
              " ' virginamerica results handily exceed forecasts nytimes http co gonmrwem6i',\n",
              " ' virginamerica applied for position in flylaxairport and was wondering if you guys received my application ',\n",
              " ' virginamerica achieves second year of profitability despite revenue pressure capa_aviation http co zsuztnaijq',\n",
              " ' virginamerica gives positive outlook but sees increased competition reuters http co jeu7od3eyj',\n",
              " ' virginamerica m trying to check into my 10 50am ct flight tmm on the desktop website and it not working some sort of caching bug sos',\n",
              " ' virginamerica weather delays gt next few weeks jfk bos dca',\n",
              " ' virginamerica madbee95 check the website before you go to the airport ',\n",
              " ' virginamerica do you guys know your check in links from emails are broken http co 2npxb6obmr',\n",
              " ' virginamerica pilot says we expect choppy landing in nyc due to some gusty winds a temperature of about 5 degrees amp the windchill 8',\n",
              " ' virginamerica loved it can wait for monday return flight mostly just to watch the inflight safety video again sorrynotsorry',\n",
              " ' virginamerica lost my luggage 4 days ago on flight vx 112 from lax to iad amp m calling every day no response please give me back my stuff',\n",
              " ' virginamerica the flight booking problems section of your website seems to be broken on chrome might wanna look into that ',\n",
              " ' virginamerica hi just wanted to see if you have any new routes planned this year for newark love flying you guys and hope to do so more ',\n",
              " ' virginamerica mean probably inappropriate while on board but it on ',\n",
              " ' virginamerica happy to spend the day together let do this ',\n",
              " ' virginamerica is saving my sanity right now http co eltboljul9',\n",
              " ' virginamerica missed my flight how does standby work ',\n",
              " ' virginamerica they were very understanding and helped me out thx comps',\n",
              " ' virginamerica brought it all the way across the country today see http co tkauygcpms',\n",
              " ' virginamerica thank you absolutely will ',\n",
              " ' virginamerica looks like broken link for your assets https co oardjjgrrd',\n",
              " ' virginamerica are you ready let say it together noooo turbulence today ',\n",
              " ' virginamerica the manage itinerary section of your website seems to be broken for me https co 2pujvcelng',\n",
              " ' virginamerica can check in your site looks like this every time it loads http co kacy2awdbw',\n",
              " ' virginamerica can help this freyabevan_fund needs urgent treatment in 2y old battling cancer could help with flights freyasfund',\n",
              " ' virginamerica may start service to hawaii from sanfrancisco this year http co ypo7nyprzl biztravel',\n",
              " ' virginamerica other carriers are less than half price for round trip fare am stunned http co ukdjjijrow',\n",
              " ' virginamerica wtf is happening in pdx late flight march such that one way from sfo is 550 ',\n",
              " ' virginamerica add dtw and m sold ',\n",
              " ' virginamerica how about some free drinks on the flight back for the free promo ',\n",
              " ' virginamerica ssal thanks ',\n",
              " ' virginamerica momma made it ',\n",
              " ' virginamerica please contact me about portfolio left on flight vx 27 from jfk to sfo tonite seat 7am need it returned call 914 329 0185 ',\n",
              " ' virginamerica help was on flight 27 from jkf tonight seat 7c left portfolio need it back ',\n",
              " ' virginamerica shrinerack seattle bound wifey got me the duffle for vday she a keeper holla http co jloiblnair',\n",
              " ' virginamerica my luggage is gone ve filed my paperwork promised call email still no resolution or response from central luggage ',\n",
              " ' virginamerica debbie baldwin gave rockstar performance of the safety demo this evening on vx919 las2sfo bestcrew sherocks',\n",
              " ' virginamerica thanks ',\n",
              " ' virginamerica thanks for taking care of suuperg on her flight rockstars travel',\n",
              " ' virginamerica thanks for the lovely soft views travel san to sfo http co cnctl7g1ef',\n",
              " ' virginamerica requested mileage challenge for status several weeks ago online but haven heard back how do get help with this ',\n",
              " ' virginamerica just trying to book tickets to nyc and facing super fun broken styling don worry ll keep trying ',\n",
              " ' virginamerica many thanks for the follow ourprincess freyasfund usa bandie looking for any help http co ujfs9zi6kd',\n",
              " ' virginamerica nice lofty view flylaxairport silverstatus http co f4tp0dawbd',\n",
              " ' virginamerica applied for status match on feb 1 got confirmation email same day still no news though you guys have dropped ball late flightly ',\n",
              " ' virginamerica is my new go to airline',\n",
              " ' virginamerica virginatlantic gma americanair can you help ourprincess in need of some help in usa http co 778aztdaer',\n",
              " ' virginamerica adore you and am so looking forward to my flight to austin in two weeks ',\n",
              " ' virginamerica was so glad it was mentioned took my first virgin flight few years back and it was transformative experience ',\n",
              " ' virginamerica flight booking problems flight to uphold my status match do taxes on ticket count as earned status points statusmatch virginamerica',\n",
              " ' virginamerica trying to check in but looks like your site is down ',\n",
              " ' virginamerica spending my birthday night with you dal dca get me home ',\n",
              " ' virginamerica sent couple messages to the email you provided but to no avail will try again next year cheers ',\n",
              " ' virginamerica first time flying virgin went to sanfrancisco thanks for the smooth ride easily my new fav airline ',\n",
              " ' virginamerica seriously though will there not be direct flights from sfo fll in may ',\n",
              " ' virginamerica it fine already done with my purchase but you should try it just go most of the way through then go back 3',\n",
              " ' virginamerica not really the experience was hoping 4 ws forced 2 check in small carry on nothing but empty cabin space on board',\n",
              " ' virginamerica wjere is our luggage so slow at lax',\n",
              " ' virginamerica to jump into the dallas austin market http co szr0pioa21',\n",
              " ' virginamerica spoke with representative that offered no solution am loyal customer who flies on virginatlantic as well',\n",
              " ' virginamerica am deeply disappointed that your birthday promo was not applied to trip booked mere days before received the email',\n",
              " ' virginamerica what happened to direct flights from sfo fll looking in may only see connecting help dontdothistome',\n",
              " ' virginamerica can you help left my blazer in kooples jacket bag at 3rd row second seat from right gate 36 t3 lax flight to sfo',\n",
              " ' virginamerica partners with visa checkout as mobile payment method to help boost mobile conversion rates etailwest payments visa',\n",
              " ' virginamerica just promoting the product is all had problem with southwest and recommend noneother than the best http co tfanxbh1cf',\n",
              " ' virginamerica love you guys but pls get some direct routes las to aus ',\n",
              " ' virginamerica would like help with some flights please ',\n",
              " 'bruh virginamerica giannilee turn down for what vxsafetydance ',\n",
              " ' virginamerica of course work for virginatlantic and m obsessed with the entire virgin family ',\n",
              " ' virginamerica ok first time flying with you tonight ',\n",
              " ' virginamerica digging the swanky pink mood lighting during the flight from nyc to sfo just needs cabaret singer think about it ',\n",
              " ' virginamerica done but need the receipt asap could you please help 150219 000114',\n",
              " ' virginamerica have 2d and 3d embossed badges and patches superior to the ones you are currently using http co 3fq3xelbon',\n",
              " ' virginamerica on vx399 from jfk to la dirty plane not up to your standards ',\n",
              " ' virginamerica on flight vx399 headed to la from jfk dirtiest va plane have ever been on sad for great airline ',\n",
              " ' virginamerica got it squared away someone picked up as soon as tweeted should have tweeted sooner ',\n",
              " ' virginamerica your avis rental continue button doesn work on your website to book car tried 4 times on phone this sucks ',\n",
              " ' virginamerica delayed to10 30 ',\n",
              " ' virginamerica currently in minute 10 of being on hold with cust service do need to do anything to add lap child to my reservation ',\n",
              " ' virginamerica adds pillows instead of lie flat seats in first class arms race http co sfjduahx9z by skift',\n",
              " ' virginamerica karinslee of course have fun celebrating thanks happy chinese new year ',\n",
              " ' virginamerica flight booking problems last second flight for next week from sfo to san any chance you want to gift me promo code since love you guys',\n",
              " ' virginamerica comenity bank is joke please change nothing but constant problems with this bank',\n",
              " ' virginamerica just did how can dm do have to also add me ',\n",
              " ' virginamerica for my grandma ella 80th she would lt 3 bday greeting from your flight crew she was stewardess for eastern airlines ',\n",
              " ' virginamerica just bought tix for atx dallas route thanks for adding that love yr airline amp yr website is best transactional site ever',\n",
              " ' virginamerica anytime sugafly ',\n",
              " ' virginamerica gave credit for my late flight flight yesterday great service that a wow moment unexpected gesture ',\n",
              " ' virginamerica need receipt for flight change can you send one ',\n",
              " ' virginamerica submitted status match request while back and still haven heard m flying on monday can you look accelerate ',\n",
              " ' virginamerica had me at their safety video http co cqmm7nue9m loved my first cross country flight livewelltraveled sytycd',\n",
              " ' virginamerica that doesn look to fat to me it looks yummy ',\n",
              " ' virginamerica ceo says southwest amp jetblue have strayed from low cost model http co 96sctomh29',\n",
              " ' virginamerica brilliant brisk am in boston in cue for vx363 http co rmznivgmg6',\n",
              " ' virginamerica atlantic ploughs lone furrow in the middleeast http co fvudmh27pf thenationaluae',\n",
              " ' virginamerica atlantic ploughs lone furrow in the middleeast http co dcobokn7ee thenationaluae',\n",
              " ' virginamerica atlantic ploughs lone furrow in the middleeast http co vw4p4t4tlh thenationaluae',\n",
              " ' virginamerica omg omg nonstop dallas to austin on virgin ',\n",
              " ' virginamerica your planes are really pretty just thought should know that ',\n",
              " ' virginamerica when are you flying to hawaii',\n",
              " ' virginamerica m pulling my hair out trying to book flight with your site doesn work on iphone or ipad don have computer help',\n",
              " ' virginamerica thank you',\n",
              " ' virginamerica can get some help with support ticket it been 15 days incident 150202 000419 thank you ',\n",
              " ' virginamerica good to be home texas moodlighting http co n3bvzty3zi',\n",
              " ' virginamerica cannot even open my laptop in seat 4c and paid premium for this let me out of here ',\n",
              " ' virginamerica am in seat 4c and cannot even open my laptop and paid extra for this seat ',\n",
              " ' virginamerica if only you guys were starting those flights at the end of the month guess m still road tripping on feb 27 ',\n",
              " ' virginamerica thanks for that been needing way to make those austin trips from dca and now you ve come through ',\n",
              " ' virginamerica announced new route to austin fares from 39 way http co ga8pbamu0c',\n",
              " ' virginamerica really sprint thought you guys were kewl 0_0',\n",
              " ' virginamerica this is too cool never been on ur planes but now will ',\n",
              " ' virginamerica you should have 39 dollar lax las fares ',\n",
              " ' virginamerica great well deserved ',\n",
              " ' virginamerica fyi the info virginamerica com email address you say to contact in password reset emails doesn exist emails bounce ',\n",
              " ' virginamerica status match 2 weeks have gone by and no news flt next week hope flt will count towards requirement cust svc no help ',\n",
              " ' virginamerica your website sucks donkey dicks just thought you should know all best ',\n",
              " ' virginamerica you should still develop an app then you will be my favorite airline ',\n",
              " ' virginamerica all crap channels which is why pay to watch uk tv',\n",
              " ' virginamerica got it all set thanks ',\n",
              " ' virginamerica no s channel this year ',\n",
              " ' virginamerica only thing see on passbook is virgin mobile mexico how do integrate ',\n",
              " ' virginamerica giants and virgin america match made in heaven ',\n",
              " ' virginamerica thank goodness also see you friday nwk gt sf boom ',\n",
              " ' virginamerica how come you don have an iphone app still using and making me waste paper ',\n",
              " ' virginamerica your back of seat entertainment system does not accept credit cards that have an apostrophe in the surname apostrophefail',\n",
              " ' virginamerica when will vx use all 6 lga slots instead of 4 today adding aus makes this less likely ',\n",
              " ' virginamerica is helping me step up my tinder game tindertips tinderchamp http co jbmvvha63a',\n",
              " ' virginamerica luv ur people and product 1 thing is do charge for herbal tea but not black tea m not caffeine drinker',\n",
              " ' virginamerica thank you see all soon m excited to see the expansion of destinations spread those wings ',\n",
              " ' virginamerica announces new nonstop connecting austinairport amp dallaslovefield 39 intro http co qxnoaqtyn8 http co jk7qmdfqgf',\n",
              " ' virginamerica adds austin dallas love field route http co xwjol55flh http co y8aormfkac',\n",
              " ' virginamerica sad to learn you no longer fly sfo gt phl hope it returns ',\n",
              " ' virginamerica can you tweet me the cancelled flight chng fee for flight or can rebook under one of your affiliates if so who are afiliates ',\n",
              " ' virginamerica has the most incredible customer service ve ever experienced so refreshing ',\n",
              " ' virginamerica now when will we see virginamerica come to philadelphia phl ',\n",
              " ' virginamerica am dreaming did you really just open up route between dallas and austin and does this mean houston might be next ',\n",
              " ' virginamerica omg finally',\n",
              " ' virginamerica to start 5xweekly a319 flights from to dallas dallaslovefield austin on 28apr avgeek',\n",
              " ' virginamerica nice to see you expanding in texas but don forget about us here in sandiego would love to see more flights out of here ',\n",
              " ' virginamerica kinda sucked my earphone jack didn work on my flight they may want to look into that for future passengers',\n",
              " ' virginamerica very poor experience first computer problem now seat malfunction stuck missing meeting in san diego ',\n",
              " ' virginamerica to battle southwestair on dallaslovefield austinairport route http co 6rlz0ebk2x via usatoday',\n",
              " ' virginamerica thankyou the dal aus route makes my day ',\n",
              " ' virginamerica awesome deals dal aus for only 39 each way https co xcvqxykg49',\n",
              " ' virginamerica miss the nerdbird in san jose',\n",
              " ' virginamerica love it taking southwestair on in their backyard consumers win when biz competes ',\n",
              " ' virginamerica is flying from love to austin now that is most excellent news ',\n",
              " ' virginamerica can we make every vx plane with nerdbird why should austin be the only one getting nerd love ',\n",
              " ' virginamerica please add more frequency to pdx portland',\n",
              " ' virginamerica congrats vx on the new route ',\n",
              " ' virginamerica tried that you offered to charge me an additional 1k for new ticket or be stranded until thurs 1st time last time ',\n",
              " ' virginamerica americanair can help with flights to get 2y old battling cancer who needs treatment in freyabevan_fund ',\n",
              " ' virginamerica never had bad experience before but this one took the cake now extortion for carry on items as well ',\n",
              " ' virginamerica had to spend 5 hours worrying that items in carryon would be broken stolen since couldn carry them on plane or lock bag ',\n",
              " ' virginamerica all of group was told there was no more room in the bins when got on the plane was room for at least 4 bags in my row ',\n",
              " ' virginamerica thanks for making my flight from lax to jfk nightmare by forcing me to check my carry on bag at the gate 1 ',\n",
              " ' virginamerica have lots of flights to book and your site it not working ve been on the phone waiting for over 10 minutes ',\n",
              " ' virginamerica am all about the in flight artisanal cheese and wine pairing ',\n",
              " ' virginamerica does virgin america fly direct from seattle to nyc or boston ',\n",
              " ' virginamerica that classy ',\n",
              " ' virginamerica m sure lot of your 747 and 777 jfk lhr flights go lot faster than 513mph with strong tailwind ',\n",
              " ' virginamerica now it just minus 32 minutes until my elevate silver upgrade window opens freeneversucks ',\n",
              " ' virginamerica save some for 871 tomorrow am ',\n",
              " ' virginamerica why is it taking 12 years to fly home to dallas get your shit together ',\n",
              " ' virginamerica jezziegoldz club virgin is bumping in new york http co haqc7gdg7c',\n",
              " ' virginamerica jezziegoldz would have been rough trip but luckily we were on virginamerica flight weather',\n",
              " ' virginamerica is that thestarter ',\n",
              " ' virginamerica please come to minneapolis st paul ',\n",
              " ' virginamerica yes fyi my bff',\n",
              " ' virginamerica another perfect flight how come on your planes the sun visors can stay down other carriers make you raise them ',\n",
              " 'nice rt virginamerica the man of steel might be faster but we have wifi just saying sciencebehindtheexperience http co fgrbpazsix',\n",
              " ' virginamerica love the dancing little richard cool beans ',\n",
              " ' virginamerica don use passbook still love you though lt 3 ll just use my email in the future ',\n",
              " ' virginamerica thanks for the free birthday points all are all right with me ',\n",
              " ' virginamerica do you have an application for ios was looking and only saw virgin mexico lt 3',\n",
              " ' virginamerica man of steel flies to more cities though and with more frequency too ',\n",
              " ' virginamerica thanks so much for sharing just added it to my site http co tsvibtvt8h',\n",
              " ' virginamerica good point ',\n",
              " ' virginamerica heard he has virgin mobile hotspot ',\n",
              " ' virginamerica you got cheese plate flights too ',\n",
              " ' virginamerica on all your flights ',\n",
              " ' virginamerica dad on segway is the best part of this whole infographic ',\n",
              " ' virginamerica are there any plans for short haul airline in europe would defiantly fly with you guys ',\n",
              " ' virginamerica wifi and better seating ',\n",
              " ' virginamerica how come abc is the only one of the network channels you don have ',\n",
              " ' virginamerica started my flight with scolding for using an overhead bin that was then offered to the person seated next to me ',\n",
              " ' virginamerica not only was it great but you return my calls the day after couldn ask for more myvxexperience',\n",
              " ' virginamerica while other airlines weren cancelled flighting flights into bos and helping their customers get home virgin was saying good luck ',\n",
              " ' virginamerica dear virgin customer while you re stranded in sf for 3 days amp 1000cost we ll do the very least we can to accommodate you ',\n",
              " ' virginamerica should use this in their next airline commercial lol http co pxexilsjbs',\n",
              " ' virginamerica grouping virgin in with the others now bos weather has exposed their actual cus serv model never flight booking problems with virgin again ',\n",
              " ' virginamerica as one of the travelers affected by the boston storm m shocked at virgin complete apathy toward their customers ',\n",
              " ' virginamerica umm so no reason as to why this is is there someone different should contact or contact me to get definitive answer ',\n",
              " ' virginamerica trying to make the change in advance not just 24 hours prior tried it online earlier and it wanted 300 in change fees ',\n",
              " ' virginamerica so loyal that m driving to nyc from pa to fly virgin since you cut philly flights ',\n",
              " ' virginamerica any way to change from main cabin to main cabin select on same flight without paying change fee penalty ',\n",
              " ' virginamerica you guys are perfect as always lt 3 wervirgin',\n",
              " ' virginamerica thanks all have some of the best customer service left in the industry ',\n",
              " ' virginamerica can you give me silver status for 12 months ',\n",
              " ' virginamerica really wish you fly out of fargo fargoairport those fares are amazings',\n",
              " ' virginamerica mood lighting on point reclining my seat kickin up my feet ',\n",
              " ' virginamerica my flight 6000 scheduled for 1pm departure still says on time but no plane at gate any update on how long of delay ',\n",
              " ' virginamerica my group got their cancelled flightlation fees waived but can because my ticket is booked for 2 18 your reps were no help either ',\n",
              " ' virginamerica are there any sign up bonuses to enroll in elevate ',\n",
              " ' virginamerica just got on the 1pm in newark home to la your folks at ewr are incredible letsgohome',\n",
              " ' virginamerica morning if have question regarding elevate points amp flights can dm you ',\n",
              " ' virginamerica still waiting to see starryeyes_dev_ ',\n",
              " ' virginamerica was wondering if you guys recieved my dm and we re able to potentially respond asap',\n",
              " ' virginamerica flying lax to sfo and after looking at the awesome movie lineup actually wish was on long haul ',\n",
              " ' virginamerica book out of town with fares from 59 way restr http co xrdtov7nl8 http co 4y78byackc jenniferdawnpro',\n",
              " ' united thanks',\n",
              " ' united thanks for taking care of that mr happy customer ',\n",
              " ' united still no refund or word via dm please resolve this issue as your cancelled flightled flight was useless to my assistant trip ',\n",
              " ' united delayed due to lack of crew and now delayed again because there a long line for deicing still need to improve service united',\n",
              " ' united thanks we filled it out how our luck with this is it common ',\n",
              " ' united your eri ord express connections are hugely popular now if only we could have an eri ewr hop ',\n",
              " ' united even on international flight glasgow to the s then what about orlando to newark all 90 mins ',\n",
              " ' united you think you boarded flight au1066 too early think so ',\n",
              " ' united understand but it tough when there is no way to get to the airport o serious risk of an accident it a steep price ',\n",
              " ' united gate agent hooked me up with alternate flights if you have way to prevent the constant issues that would rock ',\n",
              " ' united flying gla mco in few weeks how long do we have to be at airport for before departure for both international and domestic ta',\n",
              " ' united thanks',\n",
              " ' united thanks it is on the same ticket ',\n",
              " ' united why not is it law or policy ',\n",
              " ' united is the worst nonrefundable first class tickets oh because when you select global fc their system auto selects economy upgrade ',\n",
              " ' united cheertymedad so can buy tix 3 days before flight but can transfer the tix flawed security logic flawed customer service',\n",
              " ' united did start claim but 8 10 weeks is unrealistic am really supposed to go that long with out car seat for my child ridiculous ',\n",
              " ' united follow me please this airline is beautifull ',\n",
              " ' united no don but m sure united have my info on its system ',\n",
              " ' united if the car seat is lost united should just reimburse me for new one this is not pair of shoes it a necessity for my child',\n",
              " ' united just submitted my response on the link you sent ',\n",
              " ' united yes david allan send an email with this number kmm24999563v99860l0km and case 8719519',\n",
              " ' united highbuddyyy that totally sucks my cousin worked at phl said united',\n",
              " ' united just wanted to let you know how wonderful rosetta the gate agent was working flight 6457 dan to ase let her know she wasappreciated',\n",
              " ' united yes paper voucher that got on january 26th 2015',\n",
              " ' united beginning of feb called united they said they would send another voucher by mail never got anything tiredofwaiting',\n",
              " ' united the internet is great thing am emailing executives in your company maybe they will respond to me in timely manner ',\n",
              " ' united do need to use chase united club pass for my 8yr old son or can he come in with me on my pass ',\n",
              " ' united and what am suppose to do with that number ',\n",
              " ' united thats weak see ya hey virginamerica ',\n",
              " ' united flew back other company since united didnt have an earlier flight',\n",
              " ' united lost voucher that was given in miami aeroport on jan 26 did not use it ',\n",
              " ' united am trying to book awards for september and need flights on aegeanairlines but they will not show even many award seats availab',\n",
              " ' united sure did had to drive total of 3 hours to get my own bag d like to explain that debacle but no one wants to talk to me ',\n",
              " ' united cheertymedad gee that like almost caring about ppl more than think m more int in having trusted adult daughter ',\n",
              " ' united see we were told repeatedly that the pilot was late flight and kept getting late flightr after we boarded there was defibrillator issue ',\n",
              " ' united why no preferred security line anymore my tsa pre check didn pull on my silverairways partner flight platinum spoiled',\n",
              " ' united newarkliberty airport need to indicate different gate for terminals amp flyingainteasy',\n",
              " ' united yes please am newly married and trying to update my last name on preexisting international flight it seems so easy but ',\n",
              " ' united how does united refuse to reissue 400 lost voucher when their plane didn take off due to mechanics badcustomerservice',\n",
              " ' united also during the run was instructed to do shattered my computer http co oaflfr7wxb',\n",
              " ' united yes we ve been with the agents for the last 50 minutes one of the agents have been very rude but thankfully ladan has been nice ',\n",
              " ' united that right with an overnight miami ',\n",
              " ' united have clients with an 11 hr layover at iah during the day will they have to claim amp recheck luggage or will it be taken care of ',\n",
              " ' united am trying to find out if the loaner seat is new or used used car seat is illegal according to safety regulations',\n",
              " ' united dmed you the details',\n",
              " ' united iah to charlotte baggage claim rep latrice customerservice non existent ignored customer then inappropriately touched customer',\n",
              " ' united kewl will also let them know the overhead bin over my row was inop love good abbreve ',\n",
              " ' united thanks for your help got me what need but its an issue with _austrian guess sit awhile longer ',\n",
              " ' united uctraveladvisor would have loved to respond to your website until saw the really long form in business the new seats are bad',\n",
              " ' united refund and flight vouchers or another flight on different airline at your expense for today 8 hour drive is very inconvenient',\n",
              " ' united then why have not received my call back its been 3 days it an infant car seat how am supposed to go anywhere with my child',\n",
              " ' united thanks again for your concern will contact customer care upon our return from australia ',\n",
              " ' united well sitting on the ground on time but waiting for gate again tiredofthis',\n",
              " ' united airport snow removal method 22 keep up the good work folks this is where cessna become 747 http co 9v8tmusjvu',\n",
              " ' united no need you guys to not over book planes it not concern ll just travel with someone else moving forward ',\n",
              " ' united measly 50 certificate is not how you appreciate loyal customers after they wait 3hrs on the tarmac during ua1116 unacceptable',\n",
              " ' united when will email address username sign on be available it been while ',\n",
              " ' united thank you for that am able to claim any interim expenses or is the cost of the stuff up on me ',\n",
              " ' united rude rude',\n",
              " ' united why can i get boarding pass for my austrian airlines codeshare flight rebook incls 6 hour layover amp am stuck outside sec',\n",
              " ' united received on other flights united truly breaks guitars unitedbreaksguitars wantmymoneyback',\n",
              " ' united just flew to telaviv paid 100 from third suitcase which didn even make it on the plane besides for the impolite service ',\n",
              " ' united my bag is still in colo springs am disabled and have to search an unfamiliar airport and look for my bag not good outcome',\n",
              " ' united shame that there no flex to tickets transfer rules even calling from neurosurgery icu isn enough ',\n",
              " ' united no denver said they don handle baggage that made it to colo springs they gave me an 800 number to call no help there either ',\n",
              " ' united you guys need some serious training in customer service too many better options to put up with the way you guys handle ur mistakes',\n",
              " ' united 6533 ord to dca',\n",
              " ' united once he found out we had problem he avoided me like the plague was told we can find supervisor ',\n",
              " ' united zcc82u cancelled flight flight 16h in advance need connect flight reschedule so the link isn helping help gf waited months to see me ',\n",
              " ' united will not be flying you again',\n",
              " ' united in addition my first flight was delayed an hour and m arriving at my destination 8 hrs late flight ',\n",
              " ' united cancelled flighted our flight didn rebook us on added flight now have to drive from denver to kc thanks ',\n",
              " ' united your announcement for pre boarding only addresses mobility my disability requires me to travel with lot of stuff do preboard ',\n",
              " ' united flew united last month and the experience was awesome ',\n",
              " ' united our travel booked thru united group dept okc ticket agent less than willing to help with our connection in lax ',\n",
              " ' united upset with your disability services when told one of your employees was carrying medical equipment she was very rude ',\n",
              " ' united thnx for quick reply but don think you can assist our intl grp will be put to considerable inconvenience today ',\n",
              " ' united wont transfer flight ticket to accompany an 11 yr old who active military mom had to have emergency brain surgery wow ',\n",
              " ' united getmeontop 7 weeks late flightr and still have not received my miles from the mileageplus gift card 150 starbucks card handed over ',\n",
              " ' united as 1k m always hoping for improvement ',\n",
              " ' united not yet complained about the guy who checked my luggage in as he was throwing the bags around unfortunate coincidence hope ',\n",
              " ' united okc ticket agent roger mclarren sp less than helpful with our intl group travel problems can find supervisor for help ',\n",
              " ' united mobile apps need construction from the ground up for each os category it expensive to get right ',\n",
              " ' united another fail for the united ticket agents in okc less than helpful and could care less about our problems american here we come ',\n",
              " ' united 441 which also had 1 working wc in coach good thing this bird landed ahead of schedule have to use the wc stat ',\n",
              " ' united the os isn controlled by me but rather verizonwireless app is new ',\n",
              " ' united just sent an email to customer care telling them may have to break up with you sincerely hope they can help me ',\n",
              " ' united silly m flying delta today your united club staff and attendants are surly and unhelpful and always seem bothered by pesky folk',\n",
              " ' united what is your phone number can find who to call about flight reservation ',\n",
              " ' united well you can fix me missing my buddies 30th bday because of negligence but you can attempt to make up for it ',\n",
              " ' united why am to believe they will help when customer service couldn like said want number to someone who can fix what you did ',\n",
              " ' united they helped me at the baggage service desk said bc tsa screening was down in fll not all bags made it but bag will be in ewr 12',\n",
              " ' united mobile boarding pass disappeared from phone while standing in line to board second time this week hmm ',\n",
              " ' united for the record rozana at newark was lovely and helpful choosekind',\n",
              " ' united it was last night 1235 ord lga ',\n",
              " ' united thx for update',\n",
              " ' united thank you ',\n",
              " ' united dm these nuts',\n",
              " ' united had to explain to very over eager flight attendant trying to ask about my vision that my ccicanine was not guide dog ',\n",
              " ' united what the point of asking for details about servicedog when you book if your flight crew doesn read them continued ',\n",
              " ' united tried but no one was available in bogota and everyone was rude in houston was stuck for 35 hours because of you guys',\n",
              " ' united worst2unitedflightsever ua 236 las to iad 2 24 mechanical problems again took off had to land for fix delayed again wtfodds ',\n",
              " ' united despite my bag not making it to newark good informative email tracking updates help ',\n",
              " ' united what going on with ua 236 outbound flight last thurs was delayed 4hrs how long will this delay be worst2unitedflightsever',\n",
              " ' united worst2unitedflightsever ua1429 iad to las 2 19 mechanical problems switched aircraft delayed 3 5 hours ',\n",
              " ' united crashed trying to check in ',\n",
              " ' united wow what deal again 30 plus seats available easy change to make customer happy ',\n",
              " ' united thanks for the info already knew ',\n",
              " ' united airline trouble this winter amp not getting good customer service contact http co aqjn4hwnac we negotiate resolutions for you ',\n",
              " ' united on 768 to logan boarding gong show due to lax carry on enforcement bins full of coats no room for bags need better system ',\n",
              " ' united thank you ',\n",
              " ' united blackmailed me into paying 130 extra or having my return ticket nullified in san francisco airport terrible service from rep scam',\n",
              " ' united is there an email address can reach too long for dm ',\n",
              " ' united disappointed that didnt honor my 100 credit given to me for ur mistakes taking my business elsewhere out ',\n",
              " ' united ua1673 still waiting supposed to depart 9 08',\n",
              " ' united it was credit from my last trip that never came in the mail ',\n",
              " ' united ok it now been 7 months waiting to hear from airline gave them quite bit more than the 30 days requested terrible service',\n",
              " ' united does this process ever end still waiting for the reply since 2 months pathetic customerservice',\n",
              " ' united what going on with your website m flight booking problems three tickets today and ve been booted off the system umpteen times ',\n",
              " ' united how do get my account number if your website says email is unavailable ',\n",
              " ' united so do need to book two one ways in order for her to fly as an unaccompanied minor ',\n",
              " ' united received 1 bag last night am still missing the other one ',\n",
              " ' united simonroesner you ll need to upgrade the seats too even in economy plus it like sitting on concrete bench ',\n",
              " ' united pls help baby hannah get the life saving surgeries she requires she needs your help pls donate rt http co kqnrrp86a5',\n",
              " ' united bet you wont honour them like mine ey',\n",
              " ' united 2nd flight also delayed no pilots but they boarded is so we can just sit here scheduling',\n",
              " ' united guess that too much ask huh ',\n",
              " ' united but it hard to stay upset at someone when they at least try to show remorse ',\n",
              " ' united by the way simple apology goes long way even if it a hollow one it obvious that you don care about me or my well being ',\n",
              " ' united this isn a one time thing either it a shocking pattern of repeated neglect and disrespect ',\n",
              " ' united fingers crossed amp its all intact very disappointed with this experience as before this we were actually saying we enjoyed using you',\n",
              " ' united it an incredibly easy fix but you would rather stay in your comfort zone while get forced out of mine ',\n",
              " ' united ours in july you have zero excuses for this you have an out of date system that causes problems like this ',\n",
              " ' united everyone around us is sitting with their friends and family members they booked their tickets in october and december we bought',\n",
              " ' united not sure what you are talking about she is going on nonstop flights sna to sfo and then sfo to ewr ',\n",
              " ' united it will be because m moving to americanair because of united talk no service',\n",
              " ' united please be good to me this weekend ',\n",
              " ' united asked legitimate question about systemwide vs localized problems and got back an unrelate flightd copy paste you can do better ',\n",
              " ' united what time who can call need my skis will go to the airport and get them no more faith in united ',\n",
              " ' united see you guys are at it again amazing how one company continually makes mistakes yet fails to be held accountable for their error',\n",
              " ' united tourist wonder super tides and tide of the century at french and k coasts http co gxdqortss0',\n",
              " ' united yeah sorry but there always problem with united and you have an international reputation for having problems ',\n",
              " ' united yall should probably work on that ',\n",
              " ' united but then again maybe the bbbne_sd_ks_ia would care more to hear what went on than whoever listens to issues you caused',\n",
              " ' united wonder if sharing all this on fb and insta would produce number 140 characters really limits my story telling ',\n",
              " ' united so you re telling me there is no number to call after being left in an airport because of negligent pilot and staff ',\n",
              " ' united could this email be resent as it doesnt appear to have arrived ',\n",
              " ' united yes please trying to get to pop in newark now ',\n",
              " ' united you have to follow me in order for me to dm come on now',\n",
              " ' united 25 united coupon to make up for broken entertainment system on 9 hour flight seriously ridiculousness learncustomerservice',\n",
              " ' united so they didn drop my bag overnight amp now m leaving for week this is why you were supposed to hold on to the bag ',\n",
              " ' united did dm the details but still no response have to book today ',\n",
              " ' united know this is probably no but is there way to get cheaper airfare ticket if the flight is leaving in few hours ',\n",
              " ' united can someone please explain the process of of what happens to property found on plane after passengers leave at heathrow ',\n",
              " ' united not able to dm you my confirmation number',\n",
              " ' united ve sent the message let me know if you got it m not very twitter literate also is he really going to be stuck for 18hrs ',\n",
              " ' united very unhappy at no response to complaint emailed on 2nd feb ref 8441639 awful customer service ',\n",
              " ' united dm does not work what do do ',\n",
              " ' united private jet would have been cool do does not work ll try again',\n",
              " ' united we were not given the option of using our united travelbank in recent flight booking problems any help in using or recouping these funds thanks ',\n",
              " ' united common keep your paper work ready and don delay our flights 1585 and meetings choosechicago',\n",
              " ' united how about 3659 yul ord ',\n",
              " ' united yep that correct got an email at 12 30 am that the flight was cancelled flightled doesn matter now flight into atl is delayed thx',\n",
              " ' united 1k and had problem getting out of fll to iah sent dm to you about making my connection please let me know',\n",
              " ' united done and done',\n",
              " ' united thanks just sent ',\n",
              " ' united m grounded in montreal with ua3659 am missing my connection ua3417 to st louis can you help do you have private jet for me ',\n",
              " ' united m so frustrated and nervous because of this ',\n",
              " ' united are the ones who make it difficult for me ',\n",
              " ' united m not child m someone who has an issue with flying and prepares ahead of time to reduce the distress caused by planes you',\n",
              " ' united how does it get cancelled flightled 10 hours before take off ',\n",
              " ' united this always happens with you guys and it makes traveling incredibly stressful and uncomfortable is that good business to you ',\n",
              " ' united so what does someone with severe anxiety do when the one person who can help him isn next to him ',\n",
              " ' united m seeking to go 2 client c cant get me there need refund filled out form not confident it works if past is an indication',\n",
              " ' thnx for the response united bot it seems this improvement could be easily attained is your 1st class service really only worth 50 ',\n",
              " ' united has unrivalled access to california with flights to the s from 7 uk airports with nonstop or one stop connections year round',\n",
              " ' united booked award tix on thaiairways but m not seeing conf for them just the united flight booking problems can you get get the thai for me ',\n",
              " ' united luckily made my flights this time but was so disappointed with the lack of communication ',\n",
              " ' united checking to see why flight 3466 atl ord got cancelled flighted ',\n",
              " ' united service so far has been horrid we wanted to end the trip on high note guess that not an option ',\n",
              " ' united booked flight home over 7 months ago and requested seats together for my fiancée and we got 2 middle seats unacceptable the',\n",
              " ' united you guys are horrible ',\n",
              " ' united thnx for the info',\n",
              " ' united why do have to pay 17 for wifi with an international business ticket pennypincher',\n",
              " ' united ok to top things off you ve lost my luggage could you get any worse unitedairlines',\n",
              " ' united kudos for not cancelled flightling flights from dfw this morning united usually first to panic ',\n",
              " ' united and my luggage has been broken youcouldntmakethis up brokenwheel',\n",
              " ' united is flight 587 from dfw to ord currently on time see an advisory that dfw may be affected by weather',\n",
              " ' united maybe one day you ll be the one quoted on http co mjkpgvxmpc',\n",
              " ' united flight delayed no one remembered to turn the heat on flight 559 leaving ord seriously ',\n",
              " ' united another awesome new plane flight 1584 and extremely nice captain steve connolly ',\n",
              " ' united to speak to real person to get this resolved politely and efficiently 2 2 ',\n",
              " ' united hadn filed refund claim as was told there was no charge by your dm this is disputed by my bank hence why would like 1 2 ',\n",
              " ' united did bags make it on the flight out of iad second day without clothes is pretty inconvenient we re pretty curious unitedairlines',\n",
              " ' united every united flight between saipan and guam is an adventure you never know when capeair old plane will be operational ',\n",
              " ' united hence why ve been asking for the customer service phone number so can speak to real person to get this sorted out',\n",
              " ' united did our bags leave washington yet that would be convenient seeing as we left there day ago unitedairlines lostluggage',\n",
              " ' united so if m flying 1st class just one leg to chicago but not on my long flight to china am still able to use the lounge in chicago',\n",
              " ' united according to your dms m not owed refund please may be provided with contact number before go to my bank to file claim',\n",
              " ' united about 3 hours ago need to work out if my bag can make it to my hotel here in time or if it will need to go elsewhere ',\n",
              " ' united okay thank you',\n",
              " ' united ve filed the claim but have no way of calling for updates is there another way to do this ',\n",
              " ' united pls properly train your agents requested to speak to 1k customer service amp was transferred to dead end not even open at this hr',\n",
              " ' united thanks for remembering to load my bag onto my connecting flight oh wait you forgot iceland should be fun with no clothes ',\n",
              " ' united thank you for the cheese platter and abundance of entertainment options time just flew by ',\n",
              " ' united customer service is atrocious you have disrupted my travel plans you have lost my luggage and it is impossible to talk to human',\n",
              " ' united terminal at mia should have food open before 5am esp when there are flights at 6am two hours early like recommended can eat ',\n",
              " ' united it was ua flight 1001 now m currently stuck in portland because missed my ride because of the 3 hour delay getmartyhome',\n",
              " ' united has not responded to my various requests for contact numbers does anyone know the uk customer service number for unitedairlines',\n",
              " ' united how we looking on getting those bags to lusaka',\n",
              " ' united could you update me on the suitcase please the online and phone tracking told me nothing was told d have it back yesterday ',\n",
              " ' united thank you been trying for two days to set this up ',\n",
              " ' united just 1 last thing guys shouldn be charging for drinks on transatlantic flight',\n",
              " ' united lhr arrival lounge fail waited 20 mins for shower then left to find hotel know how many passengers carry planning ',\n",
              " ' united any luck with finalizing my reservation dm information to you please let me know what else you need want to confirm asap thx',\n",
              " ' united completed form but doubt it any use ua doesn care 6 day vacation will now be 5 sure ua won feel responsibility for that ',\n",
              " ' united definitely compliment really thought my bag was lost after it was sent on to another airport in the end am happy customer',\n",
              " ' united thanx so much you followed through and emailed me 1000 ticket voucher unitedairlines they do care',\n",
              " ' united this will definitely be trip to remember ewr sti second of the season first on seat 35a because it pays to be loyal ',\n",
              " ' united nope they told us it was time for them to go home and to sleep at the airport even though they assured us we would get room ',\n",
              " ' united keep me updated let me know that the bags make the flight to burg',\n",
              " ' united back for the expensive holiday he worked all year to pay for that you ruined we want compensation amp his original case back ',\n",
              " ' united thanks united understand that but he would actually like his own bag back what have you done with it he also wants the money ',\n",
              " ' united frankly worse customer service ever problems will happen how you deal defines company never again united ',\n",
              " ' united it still valid flight just seems strange to delay for late flight inbound crew 7 hours from now when the plane is already here ',\n",
              " ' united thanks for the lack of help and the canned response from the 1k desk ',\n",
              " ' united it too bad ua has had another unforeseeable operational issue on my return flight ',\n",
              " ' united would like to know what going on before his current flight lands ',\n",
              " ' united if pay you 25 and 35 for my luggage to be delivered when arrive why should have to wait 3 additional days for its delivery ',\n",
              " ' united so 8 hotels for 32 people but feel like we are being held hostage because someone has our boarding passes so we can leave fail',\n",
              " ' united you are one great airline ',\n",
              " ' united outbound 2 bags 70 lbs bags returning home 1 bag 50 lbs what is your logic and why am writing to machine human help required',\n",
              " ' lindaswc united we don like to hear you had poor experience please share details our customer care team http co hisc4ndmgz ',\n",
              " ' united no cancelled flightn just left us to fend for ourselves when flt came in late flight getting runaround for 3 hrs each employee blaming previous 1 ',\n",
              " ' united this is not local united number for malaysia 0011 800 55558000 what is your local united airlines here in kuala lumpur kul ',\n",
              " ' united okay ase24766m find our luggage ',\n",
              " ' united the agent that met us at the gate said any issues delays on ua1116 would have to be taken up online ',\n",
              " ' united send you an urgent message via eservice united com bg0kwm narayanan please respond asap also no local united tel kul',\n",
              " ' united thanks will you guys be getting the a380s anytime soon ',\n",
              " ' united but they are not lady one phone says its in tel aviv tel aviv united says its in newark no one knows and have nothing ',\n",
              " ' united melaniespring we ll see what we can do kn we are running most of this plane is running thanks for the help ',\n",
              " ' united yes but still now answers many have not had their luggage for 3 days unacceptable ',\n",
              " ' united what is that going to do for you nothing just like you always do',\n",
              " ' united sent in my feedback thank you ',\n",
              " ' united plus what about food and taxis ',\n",
              " ' united you are offering us 8 rooms for 32 people fail',\n",
              " ' united 32 people getting pretty tired about no action on solving the problem plus missing day of vacation and skiing',\n",
              " ' united the bright side would be keeping the promise that was made to me hope you re having good night thanks ',\n",
              " ' united yes do ',\n",
              " ' united take back the comment about your team here working hard to help us so far no solution for hotel or food or anything fail',\n",
              " ' united on 4124 arriving two hours late flight into clt now sitting on the tarmac while they move plane from the gate unhappy customer ',\n",
              " ' united airlines is the absolute worst they have no idea what they are doing neveragain unitedairlines',\n",
              " ' united thanks might want to fix this line our customer care team is currently responding to most inquiries within 7 10 business days ',\n",
              " ' united we just flew with united from aus austin bergstrom to cancun intl best flight ever the 737 are not too big not too small ',\n",
              " ' united it frustrating as frequent flyer loyal since continental upgrade equals paying 3 times or more on top of purchase ticket ',\n",
              " ' united deep vein thrombosis',\n",
              " ' united at its worse can figure how to pack plane screws up connectns then claims no hotl rooms in san fran for stranded pax way to go ',\n",
              " ' united 4 passengers after 2 hour delayed flight left with no hotel at the end of the night hou airport wtf http co zfqmpgxvs6',\n",
              " 'hey united why does the flight from iah to pos leave so late flight and the one back to iah so early rather get to pos earlier',\n",
              " ' united lost bag process is broken agent promised they call amp hold my bag when found now they re waking me at 3am delivery fail',\n",
              " ' united the people at the counter have been very helpful as you can see nobody is there flight to austin 10 55 and still sitting here ',\n",
              " ' united unfortunately still on the tarmac at fly2ohare and definitely missing my ride from flypdx gonnabealongnight',\n",
              " ' united darquenloveli we regret to hear this please let us know if you need assistance kn was finally able to secure my seat thx',\n",
              " ' united what time does check in open for flight no ua80 from manchester to newark today ',\n",
              " ' united good to know you will open the closed doors for premier passengers after safety briefings on delayed flights annoyed ',\n",
              " ' united dm sent',\n",
              " ' united yea get me to phoenix already delays all day with you people it bullshit ',\n",
              " ' united if it any consolation your staff was stellar just not the hour delays encountered with every one of my 4 flights ',\n",
              " ' united flight ua3576 gate b1 and tell ray somehow made it on to the 736 flight out of iah and didn have to wait for the 917 one ',\n",
              " ' united that unfortunate the tumitravel was an xmas gift and it looks like razor ripped right through the front pocket in the picture',\n",
              " ' united but thanks for asking',\n",
              " ' united lost bags cancelled flightled flights delhi call centers poor united staff spread thin and stressed you name it ',\n",
              " ' united yes doesn make that mistake any less absurd doesn change the fact that m very inconveniently missing my luggage tonight ',\n",
              " ' united m constantly having challenges with upgrades amp charges in order to prevent dvt have to pay an addtl 180 http co xc6jq70r7b',\n",
              " ' united in ord waited 20 min after crew members left before gate items came flight attendant sarcastically said good luck and walked away ',\n",
              " ' united follow me back please and ll happily dm you the link because d rather not share my travel plans publicly ',\n",
              " ' united you too ',\n",
              " ' united is my favorite airline ',\n",
              " ' united seriously fail on making strangers share room',\n",
              " ' united luke_mcintosh68 nah you wouldn t',\n",
              " ' united we needed them here asap will they make it on today flight ',\n",
              " ' united agent split up my reservation now can cancelled flight and refund credit for 2wks why',\n",
              " ' united our vacation going to be ruined 3 days of rain the change fee for 2 of us is nearly cost of original flight can you help ',\n",
              " ' united sent the message let me know asap ',\n",
              " ' united why would they make me share room ',\n",
              " ' united tried calling too but 25 min phn wait means we miss options anyway',\n",
              " ' united can you ask your guys with flight 1146 to bwi to wait for us to get off delayed flight from san diego pretty please ',\n",
              " ' united we re still waiting to find out your rep is working hard most upset about having to wait to tomorrow pm to get to mammoth',\n",
              " ' united for an early flt think call is appropriate yes reviewed and nada avail until next day expect full refund',\n",
              " ' united understand thanks',\n",
              " ' united again ask who can call to get this fixed tweeting me bs questions to stall only makes things worse phone number please ',\n",
              " ' united yo yo yo stuck on the tarmac for over 2 hours at fly2ohare going to miss my ride at flypdx help please helpimstuck united',\n",
              " ' united it highly unprofessional for you to overbook flight by 12 seats amp feel that should rearrange my schedule for your mismanagement',\n",
              " ' united well considering every agent before claimed they were unable to help with everything else why waste more time to hear call corp ',\n",
              " ' united man can wait to book my ticket now thanks jp you re life sabe',\n",
              " ' united ice which totally understand but when large number of us are facing 15 hours of time and overnight cancelled flightations it seems like',\n",
              " ' united flt 1249 cancelled flightled and get email 3 30 am what happened to courtesy phn call had to book diff airline amp city',\n",
              " ' united tag numbers 0016 964012 0016 964077 0016 964078 let find these bags ',\n",
              " ' united better train your support staff with appropriate decorum consider revisiting your terrible provide death certificate policy',\n",
              " ' united well the bar is set low you guys are really good at the apology game what will change when will guys learn ',\n",
              " ' united my post was just more of disappointment m frequent united flyer it was simple 1 bad apple doesn spoil the bunch ',\n",
              " ' united you guys continue to impress me in houston http co cih1qnllcm',\n",
              " ' united have no way of making phones calls need to handle via twitter email web thank you ',\n",
              " ' united please help am in ethiopia adopting two year old child have an existing confirmation need to add child to reservation ',\n",
              " ' united question are there onboad 110 volt outlets in all planes if so where ',\n",
              " ' united your website deserves new design html5 ftw ',\n",
              " ' united thanks for effing up our holidays we re missing full day of skiing due to your baggage team incompetence at flyyow',\n",
              " ' united twitter isn letting me dm you ',\n",
              " ' united hope so too',\n",
              " ' united agent helps the person in front of me finishes up with them and then walks away the guy behind me is as shocked as am ',\n",
              " ' united connection at ord was on the exact same plane again checked carry on was apparently taken off amp left in chicago pretty ridiculous ',\n",
              " ' united not encouraged that ll have my cpap tonight ',\n",
              " ' united yes did file claim as soon as the carousel stopped without my bag on it got an email that its found but not sched for delivery',\n",
              " ' united an idea monitor mileage members travel patterns enough to know when they change jobs lose status and make the transition easier ',\n",
              " ' united delay den cle because they have to manually enter baggage tags really worst cust service day for this 1ker friendlyskies ',\n",
              " ' united why tell us flight is delayed then tell us it on time again with 20 min to spare don say it delayed unless you re sure ',\n",
              " ' united yes in lusaka zambia my guess is the bags never made the plane at iad ',\n",
              " ' united where is my flight voucher ',\n",
              " ' united late flight to denver late flight to newark let not even get into the disaster that was checking bags unacceptable ',\n",
              " ' united has once again let me down don think ve ever flown with them and not had problems worst airline period ',\n",
              " ' united yes filed claim amp hope to receive by luggage by 2am ridiculous as had to purchase items to go to sleep amp no reimbursement ',\n",
              " ' united ua938 ord lhr bags are being loaded 30min late flight frigid air into cabin plane feels like falling apart upgrade long haul fleet ',\n",
              " ' united flight attendant never served me my beverage tea and not once checked up on me what gives ua6076 notcool',\n",
              " ' united load balancing system apparently down systemwide major impact on all united airlines flights was this cyberattack ',\n",
              " ' united after our unscheduled refueling stop and missing 2 connecting flights we home looking 4ward to our bed and big pb amp sandwich ',\n",
              " ' united americanair spent hundreds to rectify the situation and you guys go quiet',\n",
              " ' united ua276 sitting at ewr nearly an hour after sked pilot says computers down but no clue when we will leave can you help ',\n",
              " ' united americanair so that it it just ends there come on traveled for literally an extra day and half because of this ',\n",
              " ' united made the upgrade list will fly 1st tomorrow for 40 min for the first time ever statusmatchpaidoff http co atfrkp6goy',\n",
              " ' united not just refunded but for those of us who are on vacation to get free room night to make up for making us sleep in dia',\n",
              " ' united thanks for the reminder it been fun ride http co ppva4rch9f',\n",
              " ' united received my luggage that also looked to be left in the snow when arrived m asking for all 50 people to be refunded ',\n",
              " ' united updated a320 aircraft has wifi and device entertainment but no outlets don get it how can charge devices ',\n",
              " ' united was no one between the scan and inside the plane just asked the people in line around me where the plane was going',\n",
              " ' united 5 gate changes two delays even the crew thinks the airline sucks',\n",
              " ' united m very frustrated and have wasted 2 days now due to your equipment failures ',\n",
              " ' united computers are down but you stopped giving updates and took my flight info off the app that just ridiculous keep people updated ',\n",
              " ' united soooo it been 15 days and you ve offered no response so assume poor treatment by gate agents is the norm now ',\n",
              " ' united terrific many thanks looking forward to being back on ua tomorrow had great flight up to vancouver ',\n",
              " ' united calls to 800 resulted in 2hrs of hold time amp 2day wait to check suspect code share fare nothing investigated my time wasted 2 2 ',\n",
              " ' united it taken 3 weeks for cust care to respond to case 8477733 requesting refund for wi fi not working where can get an update ',\n",
              " ' united appreciate your efforts getting me home ',\n",
              " ' united that correct ve spent hours trying to book online only to receive an error when clicking final purchase button 1 2 ',\n",
              " ' united today was not your finest all could have been prevented by one gate agent advising 200 passengers ',\n",
              " ' united what is the real deal with the delay on flight ua 1032 from denver to vegas ',\n",
              " ' united ua63 from madrid arrived no agent mass confusion we sent to and fro by 3 ua employees maryjo was rude and unhelpful ',\n",
              " ' united system failure again bad trend software projects are like flying an airplane there no such thing as an emergency takeoff ',\n",
              " ' united lots of reports of system failures delaying flights over the last week currently sitting on the tarmac at ogg for over an hour ',\n",
              " ' united rebooting chicago dispatch system need pivotalcf as m tired of sitting on planes',\n",
              " ' united despite shaky connections looks like ll get home tonight great job united was touch and go for while ',\n",
              " ' united http co hj5kq82chn however is completely under your control the price was and still is displayed on http co hj5kq82chn ',\n",
              " ' united the aircraft closest to gate was for the other flight and the one closest to our gate was going to chicago ',\n",
              " ' united can you tell me how to file claim for clothing that had to be purchased ',\n",
              " ' united comically on the return flight from ase there were two united flights boarding at adjacent gates and not clear which plane to board',\n",
              " ' united grk13575m is the file reference',\n",
              " ' united we would how do contact you to discuss few poor experiences with customer service but would give it shot ',\n",
              " ' united ua 746 pacific rim and date night cut out not constantly or randomly but one spot repeatably ',\n",
              " ' united been trying since 1230 to file report ',\n",
              " ' united send an email about my bad experience and you send back generic response yet another reason why ll never fly with you again ',\n",
              " ' united my mom left her kindle on flight 1544 today burgundy case with light seat 27d did anyone find it ',\n",
              " ' united here is the ticket 0162424965446 please refund my unnecessary upgrade fee',\n",
              " ' united is horrible they lost our carseat and expect us to use loner carseat safety regulations say it illegal to use used car seat',\n",
              " ' united thank you ',\n",
              " 'decisions decisions mandarinjourney united we love for you to try our service we offer status match too http co xbqqqbrgvf kp ',\n",
              " 'need more info on that united momsgoodeats we have great amenity kits pj not included we status match aa kp ',\n",
              " ' united don care that thehipmunk link showed me wrong price on your site it your site amp responsibility to ensure correctness ',\n",
              " ' united do you have any flights with lie flat seating from stl to pdx around the date of march 5 ',\n",
              " ' united he needs to get to home the 24th they re telling him it ll be the 25th night is there compensation or anything that can be done ',\n",
              " ' united mllovelace the baggage fee is waived for premier members please see http co u6duw27mde jp what the point of membership ',\n",
              " ' united wonderful bag claim people finally have my bag but why did catch earlier flight original flight just landed wastedtime',\n",
              " ' united dmed you thank you',\n",
              " ' united thanks we ll be in touch ',\n",
              " ' united thanks to karen salisbury at iah for amazing customer service found my daughter bag lost on ua1516 made her day ',\n",
              " ' united 3 days late flightr and my bag has not left iad united is not helping at all everyone tells me different story',\n",
              " ' united renoairport hi when do direct flights from houston to reno begin don see any days in march ',\n",
              " ' united like continental chicken feat fairs',\n",
              " ' united can you assist with current flight status for flt 1016 out of dfw tomorrow at 6 55am ',\n",
              " ' united left my comment with customer care thanks for contacting me ',\n",
              " ' united how do you lose gate checked bag den to ord direct flight ugh ',\n",
              " ' united caught earlier flight to ord gate checked bag and you ve lost it at hare original flight lands in 20minutes frustrating ',\n",
              " 'yes thanks so much united whitterbug we see you spoke with our reservations team and they ve reinstated the flight thanks ey ',\n",
              " ' united captain on behalf of the front office welcome on board never heard that before laughed hard funnycaptain',\n",
              " ' united can you please follow for dm on missing bag ',\n",
              " ' united to be clear on my luggage comment am referencing the photo attached flight 6232 to jac http co pnbajfkmhg',\n",
              " ' united these are great fares ',\n",
              " ' united left an item on the plane and have been calling non stop and no one has been answering can you please help',\n",
              " ' united awesome ll book my next christmas vacatinn this december any other ways you want to devalue mileage plus ',\n",
              " ' united what a good number to call to speak with someone about how you can fix what you did to 50 people and their luggage on saturday ',\n",
              " ' united thank secured room for the night thx to very helpful customer service rep dorns thanked her can 2 goodenoughmother',\n",
              " ' united where my damn bag ',\n",
              " ' united well someone should tell that to the employees at the denver baggage claim still no bag ',\n",
              " ' united greetings ua club member here any idea if can use the air canada lounge at yvr flying ua tomorrow ',\n",
              " ' united how is mexico not international from the us ',\n",
              " ' united diverted and missed our connecting flight was just told that my bag is on it way to msy if you only had people that cared',\n",
              " ' united male agnt in las threatens canadian cust when cust takes pic of him at gate after agents announce can help rebook friendlyskies ',\n",
              " ' united apollochplayers we just want to go home tonight why did you cancelled flight the last leg of our reserv out our permission ph6rps',\n",
              " ' united stressed and rude agents overwhelmed by delyd flight las den 1657 yelling at several people not pretty this is friendlyskies ',\n",
              " ' united landed in boston at 9 last night the 15 hours of traveling was rough tho ',\n",
              " ' united fail you cancelled flightled our flight frm gjt and then used our reserv home to iah from sea for reflight booking problems out our permission ph6rps',\n",
              " 'just sent thank rt united goodenufmother please dm your confirmation number if reflight booking problems is needed thank you ey',\n",
              " ' united has made my no fly list other airlines wait when connector late flight stuck in iah ',\n",
              " ' united so what the deal do provide voucher for overnight or am cozy on the floor at ohare gross helpmeplease anyonethere',\n",
              " ' united also the mere fact that have to go online to issue statement vice calling and talking to some directly is one good example ',\n",
              " ' united thank you flew into newark from vail eagle ',\n",
              " ' united have weekend of dealing with your company that would say otherwise ',\n",
              " ' united now what http co 5hpsqvrjk8 flight was gone when got off plane businesstravel goodenoughmother',\n",
              " ' united the proper response sorry for your wait what flight were you on so we can look into the issue that how delta would handle ',\n",
              " ' united your customer service is terrible stood inline 3 hours no flights and 4 hours late flightr still no bag disgutedindenver',\n",
              " ' united please upload the march on demand entertainment listing on your website ',\n",
              " ' united so you are inadequate by accident ',\n",
              " ' united reebok rockinwellness denver international airport https co tkvmhbkec3',\n",
              " ' united thank you for responding so quickly with helpful tool dustyob',\n",
              " ' united boarding time shows 35 min and your gate agent started at 45 showed up at 4 00 and they had to check bag http co zcbjyo6lsn',\n",
              " ' united agent in las letting 20 customers know they can help them rebook delayed flight to den unfriendlyskies http co quzvmk2rtr',\n",
              " ' united empathizes my disappointment that 1stclass flight nonworking entertainmnt is worth 50 unfriendlyskies http co loeco4gmvd',\n",
              " ' united and when that doesn work ',\n",
              " ' united did you have seen my message today about mcdonnell douglas dc 10 model will hear it if you read it goodnight now',\n",
              " ' united searched for mileage tickets to bom couldn find single one is saver awards see how you play earn miles but can use them ',\n",
              " ' united flight arrives 30 minutes early but then have we to wait for an hour for our bags ',\n",
              " ' united that not the issue the fact that no one even called despite promises to confirm the bag location is ',\n",
              " ' united what a girl gotta do to get flight name change when she bought one for mean ex boyfriend and needs girl trip stat ',\n",
              " ' united thank you we are signed up for notifications we shall watch and wait ',\n",
              " ' united still waiting to hear back my wallet was stolen from one of your planes so would appreciate resolution here',\n",
              " ' united would love if someone could get me back to austin tonight and do not wish to wait til tomorrow morning ',\n",
              " ' united or flysaa has lost my baggage heard different things from different employees of united flysaa has said nothing ',\n",
              " ' united cs thinks that miles can repair the damage done it will be interesting if they travel in united and exp the worst flight ever ',\n",
              " ' united have 0530 flight out of dfw on tuesday how far in advance will you give notice if cancelled flightled ',\n",
              " ' united am signed up for notifications this is the first trip was not updated on not sure why this happened ',\n",
              " ' united thank you took care of everything and made it right that the experience m used to opened the app to find flight changed ',\n",
              " ' united that is not in line with your responses here and now m waiting until tomorrow morning because all the flights are overbooked ',\n",
              " ' united took the exact same aircraft in to lax 3 days ago it fit no problem the agent today told some nonsense about policy change',\n",
              " ' united your helpful agents in club helped am just out baggage fees and night of my life stop doing business with silverairways',\n",
              " ' united never heard of this http co qdebyahqfm',\n",
              " ' southwestair doesn charge ticket change fees do they not incur the same mysterious costs that you incur united ',\n",
              " ' united exhausted amp frustrated link to fb post abt my travel issue https co larkc8vc4s',\n",
              " ' united was denied getting on the plane o getting the chance to prove it fits m not rookie read my bio ',\n",
              " ' united that exactly the point it fits m premier access boarding group 2 this was return ticket ve been doing this for 15 yrs',\n",
              " ' united ve never experienced worst customer service placing blame on codeshare partners and not assuming responsibility is unacceptable',\n",
              " ' united currently on board so not now check in was terrible staff rude expensive luggage thrown around etc ',\n",
              " ' united fucked up then voided my ticket and kept my money not even an apology will never fly with your airline again unitedairlines',\n",
              " ' united has the worst customer svcs this kevin rep at call center must be investigated my baggage lost and there no help but argument ',\n",
              " ' united should not sell tickets for silverairways on http co onhxhco6bk has terrible service and ua staff cannot reach silver',\n",
              " ' united just got demoted from gold cuz my hubby got 100 of the pqd tho there were enuf spent for 4 golds spousal discrimination angry ',\n",
              " ' united thank you ',\n",
              " ' united when will direct flights from belfast intl to newark resume from their winter break thanks ',\n",
              " ' united my favorite way to travel thank you http co vgn2x1ckg0',\n",
              " ' united yes after this awful weather it appears can get home',\n",
              " ' united yes lots you have terrible customer service at newark and despite raising complaint there we were ignored hence the tweet',\n",
              " ' united lovely new plane from lga to ord but no power outlets ',\n",
              " ' united but if tweet the id number won that reveal my home address to anyone on the web ',\n",
              " ' united filed delayed bag report on saturday my flight was cancelled flightled and never went anywhere ',\n",
              " ' united the person is currently bettween gates 71a and 73 in lax',\n",
              " ' united need it there before she lands so she can have the ewr baggage claim file to have it sent but the employee has not droppeditoffyet',\n",
              " ' united rarely ceases to amaze for the worse hope this is the last time have to fly with you ',\n",
              " ' united thank you for the quick response but cannot dm you until you follow me as well',\n",
              " ' united icloud it is not there yet please help 917 703 1472',\n",
              " ' united need the phone number to baggage claim in lax my mom left her phone and someone called saying they would put it there but on',\n",
              " ' united did no response back',\n",
              " ' united this is atrocious customer service ',\n",
              " ' united will not have to honor absurdly low mistake fares http co 2z3jv73ilw vía usatoday',\n",
              " ' united albanyairport delayed departure to check bags at gate claiming space filled and walk on to open spaces delay poorcustomerservice',\n",
              " ' united you cancelled flighted our flights for no reason amp now we have been on the phone for an hour on our vacation why ',\n",
              " ' united dfpietra that your response shaking my head back and forth with tsk you can do better from customer service to your apology',\n",
              " ' united thanks it 35k miles from rtb to europe to do multiple destination so we could stop over in us on way way back mileage diff ',\n",
              " ' united of course did the bag should be here by now frustrated',\n",
              " ' united you are the worst will avoid you like the plague ',\n",
              " ' united is the worst airline in the world ',\n",
              " ' united someone needs to dm me and resolve this correctly extremely disappointed with the service received terrible management ',\n",
              " ' united premier gold desk changes flight waives fees gives me wrong flight now jana acosta in salt lake refuses the same service angry ',\n",
              " ' united will give you one thing you are consistent but unfortunately you are consistent at not doing your job well alwaysdelayedonunited',\n",
              " ' united will but right now m to angry',\n",
              " ' united first time flying with united also last time terrible back to virginatlantic for me branson virginatlantic unitedairlines',\n",
              " ' united used to be committed continentalairlines flyer until merger remember now why switched to southwestair communicationfail',\n",
              " ' united the least you could do is offer me ticket in coach instead of just cancelled flighting my reservation because of your glitch notfair',\n",
              " ' united m saying made the flight but with poor non communication unaccounted for lost time amp lots of frustrated flyers standing around',\n",
              " ' united think dm would be better',\n",
              " ' united gate announcement states delay due to maintenance yet app says late flight arriving aircraft tell the truth unfriendly',\n",
              " ' united you are easily the worst company have ever experienced you have lost someone personal possessions amp you couldn care less ',\n",
              " ' united how can your app show arriving aircraft is early but departing flight is delayed due to late flight arriving aircraft unfriendly',\n",
              " ' united already did that at the airport and 12 hrs late flightr its still not here you guys are really killing me today trying to stay positive ',\n",
              " ' united once united service levels reaches those of etihad or lets be more realistically lufthansa then ill consider it again',\n",
              " ' united really someone called in sick and then someone forgot to call replacement now an hour late flight to take off theworst',\n",
              " ' united asked flight attendant what typical compensation would be amp says we might get free tv unacceptable',\n",
              " ' united done',\n",
              " ' united thank you jh appreciate the prompt responses me and other passengers will be doing so ',\n",
              " ' united has been such disappointment today simply put rather unpleased with things currently flight delayed cant wait to just get home',\n",
              " ' united during the same round trip my non english speaking friend was stranded twice for 12 hours each time most staff members were rude ',\n",
              " ' united found group of people who actually hates people more than isis thats right united airlines ',\n",
              " ' united nope walked up amp down the orf terminal amp not united agent to be found showed up last minute to board us many panicked people',\n",
              " ' united thank you',\n",
              " ' united by the time finally get to dallas could have driven with less frustration and cheaper ',\n",
              " ' united m trying to get to my final destination we need compensation just about 2hrs of personal time wasted ',\n",
              " ' united that guy really has no customer service clue could have spent effort clearing bins for rollerboards instead of art projects in mine ',\n",
              " ' united he has no priority and iove it',\n",
              " ' united pleased to be premier platinum',\n",
              " ...]"
            ]
          },
          "metadata": {},
          "execution_count": 52
        }
      ]
    },
    {
      "cell_type": "markdown",
      "source": [
        "\n",
        "# TF-IDF"
      ],
      "metadata": {
        "id": "fjDDlOzn15eg"
      }
    },
    {
      "cell_type": "code",
      "source": [
        "\n",
        "from nltk.corpus import stopwords\n",
        "from sklearn.feature_extraction.text import TfidfVectorizer\n",
        "nltk.download('stopwords')"
      ],
      "metadata": {
        "id": "RRM_GyF41uPS",
        "colab": {
          "base_uri": "https://localhost:8080/"
        },
        "outputId": "a9fe9c8b-f3e8-4d0d-ca49-8515e0397543"
      },
      "execution_count": 53,
      "outputs": [
        {
          "output_type": "stream",
          "name": "stderr",
          "text": [
            "[nltk_data] Downloading package stopwords to /root/nltk_data...\n",
            "[nltk_data]   Package stopwords is already up-to-date!\n"
          ]
        },
        {
          "output_type": "execute_result",
          "data": {
            "text/plain": [
              "True"
            ]
          },
          "metadata": {},
          "execution_count": 53
        }
      ]
    },
    {
      "cell_type": "code",
      "source": [
        "vectorizer = TfidfVectorizer(max_features=2500,min_df=7,max_df=0.8,stop_words=stopwords.words('english'))\n",
        "processed_Features = vectorizer.fit_transform(processed_Features).toarray()"
      ],
      "metadata": {
        "id": "iHG6reSt1uhb"
      },
      "execution_count": 54,
      "outputs": []
    },
    {
      "cell_type": "code",
      "source": [
        "from sklearn.model_selection import train_test_split\n",
        "x_train,x_test,y_train,y_test = train_test_split(processed_Features,Labels,test_size=0.2,random_state=0)"
      ],
      "metadata": {
        "id": "IXyhszKX1vEv"
      },
      "execution_count": 55,
      "outputs": []
    },
    {
      "cell_type": "code",
      "source": [
        "import sys\n",
        "print(sys.version)"
      ],
      "metadata": {
        "colab": {
          "base_uri": "https://localhost:8080/"
        },
        "id": "kxdEFyBG1vej",
        "outputId": "e009ed09-a83f-44e7-be67-0543a93f942c"
      },
      "execution_count": 56,
      "outputs": [
        {
          "output_type": "stream",
          "name": "stdout",
          "text": [
            "3.7.13 (default, Apr 24 2022, 01:04:09) \n",
            "[GCC 7.5.0]\n"
          ]
        }
      ]
    },
    {
      "cell_type": "markdown",
      "source": [
        "\n",
        "#Building the model\n",
        "\n",
        "    1. Support Vector Machine\n",
        "\n"
      ],
      "metadata": {
        "id": "5jzzUuK-2In9"
      }
    },
    {
      "cell_type": "code",
      "source": [
        "from sklearn.svm import SVC\n",
        "from sklearn.metrics import confusion_matrix,accuracy_score"
      ],
      "metadata": {
        "id": "Eous1ody2B_T"
      },
      "execution_count": 57,
      "outputs": []
    },
    {
      "cell_type": "code",
      "source": [
        "clf = SVC(kernel='linear',random_state=0)\n",
        "clf.fit(x_train,y_train)"
      ],
      "metadata": {
        "colab": {
          "base_uri": "https://localhost:8080/"
        },
        "id": "2vUPngs22CYp",
        "outputId": "bd7f25f0-0c46-4a46-ac94-8451fc2abcee"
      },
      "execution_count": 58,
      "outputs": [
        {
          "output_type": "execute_result",
          "data": {
            "text/plain": [
              "SVC(kernel='linear', random_state=0)"
            ]
          },
          "metadata": {},
          "execution_count": 58
        }
      ]
    },
    {
      "cell_type": "code",
      "source": [
        "pred=clf.predict(x_test)"
      ],
      "metadata": {
        "id": "gMnOmWxe2CxS"
      },
      "execution_count": 60,
      "outputs": []
    },
    {
      "cell_type": "code",
      "source": [
        "from sklearn.metrics import confusion_matrix,accuracy_score,classification_report"
      ],
      "metadata": {
        "id": "P7IHYysT2DK1"
      },
      "execution_count": 61,
      "outputs": []
    },
    {
      "cell_type": "code",
      "source": [
        "print(confusion_matrix(y_test,pred))"
      ],
      "metadata": {
        "id": "NoWHql3b2Dlf",
        "colab": {
          "base_uri": "https://localhost:8080/"
        },
        "outputId": "26e17ff8-245e-450e-cdf6-fd126b7cc782"
      },
      "execution_count": 62,
      "outputs": [
        {
          "output_type": "stream",
          "name": "stdout",
          "text": [
            "[[1697  129   44]\n",
            " [ 264  306   44]\n",
            " [ 107   56  281]]\n"
          ]
        }
      ]
    },
    {
      "cell_type": "code",
      "source": [
        "print(accuracy_score(y_test,pred))"
      ],
      "metadata": {
        "id": "XbmZWO-x2D28",
        "colab": {
          "base_uri": "https://localhost:8080/"
        },
        "outputId": "0397173d-6484-4fbb-eb07-1a646f0f1661"
      },
      "execution_count": 63,
      "outputs": [
        {
          "output_type": "stream",
          "name": "stdout",
          "text": [
            "0.7800546448087432\n"
          ]
        }
      ]
    },
    {
      "cell_type": "code",
      "source": [
        "print(classification_report(y_test,pred))"
      ],
      "metadata": {
        "id": "cm2f-Ifu2EXA",
        "colab": {
          "base_uri": "https://localhost:8080/"
        },
        "outputId": "857a3fb4-dd84-476c-affc-88ff0fb3aca6"
      },
      "execution_count": 64,
      "outputs": [
        {
          "output_type": "stream",
          "name": "stdout",
          "text": [
            "              precision    recall  f1-score   support\n",
            "\n",
            "    negative       0.82      0.91      0.86      1870\n",
            "     neutral       0.62      0.50      0.55       614\n",
            "    positive       0.76      0.63      0.69       444\n",
            "\n",
            "    accuracy                           0.78      2928\n",
            "   macro avg       0.74      0.68      0.70      2928\n",
            "weighted avg       0.77      0.78      0.77      2928\n",
            "\n"
          ]
        }
      ]
    },
    {
      "cell_type": "markdown",
      "source": [
        "\n",
        "\n",
        "    - Neutral sentiments are hard to predict with good precision.\n",
        "    - Negative sentiments are predicted well.\n",
        "\n"
      ],
      "metadata": {
        "id": "O9gZVtTI2XJe"
      }
    },
    {
      "cell_type": "markdown",
      "source": [
        "2. AdaBoost Classification"
      ],
      "metadata": {
        "id": "RE2YDmDH2duq"
      }
    },
    {
      "cell_type": "code",
      "source": [
        "from sklearn.ensemble import AdaBoostClassifier"
      ],
      "metadata": {
        "id": "ZIabrDDq2Evk"
      },
      "execution_count": 65,
      "outputs": []
    },
    {
      "cell_type": "code",
      "source": [
        "clfr=AdaBoostClassifier(random_state=0)\n",
        "clfr.fit(x_train,y_train)"
      ],
      "metadata": {
        "colab": {
          "base_uri": "https://localhost:8080/"
        },
        "id": "HDVkfWeb2hE3",
        "outputId": "3d0a1040-34cf-441c-a5a2-7b6dcee3c589"
      },
      "execution_count": 66,
      "outputs": [
        {
          "output_type": "execute_result",
          "data": {
            "text/plain": [
              "AdaBoostClassifier(random_state=0)"
            ]
          },
          "metadata": {},
          "execution_count": 66
        }
      ]
    },
    {
      "cell_type": "code",
      "source": [
        "predictions=clfr.predict(x_test)"
      ],
      "metadata": {
        "id": "wjnPNUbA2hmR"
      },
      "execution_count": 67,
      "outputs": []
    },
    {
      "cell_type": "code",
      "source": [
        "print(confusion_matrix(y_test,predictions))"
      ],
      "metadata": {
        "id": "H1zATpFh2iPO",
        "colab": {
          "base_uri": "https://localhost:8080/"
        },
        "outputId": "7a18d041-ecbb-440c-b698-502ed39f1f9a"
      },
      "execution_count": 68,
      "outputs": [
        {
          "output_type": "stream",
          "name": "stdout",
          "text": [
            "[[1585  210   75]\n",
            " [ 313  247   54]\n",
            " [ 108   76  260]]\n"
          ]
        }
      ]
    },
    {
      "cell_type": "code",
      "source": [
        "print(accuracy_score(y_test,predictions))"
      ],
      "metadata": {
        "id": "1UnWIDua2ipQ",
        "colab": {
          "base_uri": "https://localhost:8080/"
        },
        "outputId": "6987f5af-0a83-4cdf-a49a-5a86c00fc58e"
      },
      "execution_count": 69,
      "outputs": [
        {
          "output_type": "stream",
          "name": "stdout",
          "text": [
            "0.7144808743169399\n"
          ]
        }
      ]
    },
    {
      "cell_type": "code",
      "source": [
        "print(classification_report(y_test,predictions))"
      ],
      "metadata": {
        "id": "mKwyQXbg2jBb",
        "colab": {
          "base_uri": "https://localhost:8080/"
        },
        "outputId": "7ce26a4c-45bd-44af-a145-d759b2a502ce"
      },
      "execution_count": 70,
      "outputs": [
        {
          "output_type": "stream",
          "name": "stdout",
          "text": [
            "              precision    recall  f1-score   support\n",
            "\n",
            "    negative       0.79      0.85      0.82      1870\n",
            "     neutral       0.46      0.40      0.43       614\n",
            "    positive       0.67      0.59      0.62       444\n",
            "\n",
            "    accuracy                           0.71      2928\n",
            "   macro avg       0.64      0.61      0.62      2928\n",
            "weighted avg       0.70      0.71      0.71      2928\n",
            "\n"
          ]
        }
      ]
    },
    {
      "cell_type": "markdown",
      "source": [
        "\n",
        "\n",
        "Hence, SVM gives better accuracy (i.e 78%) for the given data.\n",
        "\n",
        "3. Naive Bayes' classifier"
      ],
      "metadata": {
        "id": "Sn4_Q46I2u5T"
      }
    },
    {
      "cell_type": "code",
      "source": [
        "from sklearn.naive_bayes import MultinomialNB"
      ],
      "metadata": {
        "id": "wMOju5zL2jbR"
      },
      "execution_count": 71,
      "outputs": []
    },
    {
      "cell_type": "code",
      "source": [
        "classifier = MultinomialNB()\n",
        "classifier.fit(x_train,y_train)"
      ],
      "metadata": {
        "colab": {
          "base_uri": "https://localhost:8080/"
        },
        "id": "BtDfImWT9mT2",
        "outputId": "f1b663bb-356d-4873-d856-7e0c27761c5c"
      },
      "execution_count": 73,
      "outputs": [
        {
          "output_type": "execute_result",
          "data": {
            "text/plain": [
              "MultinomialNB()"
            ]
          },
          "metadata": {},
          "execution_count": 73
        }
      ]
    },
    {
      "cell_type": "code",
      "source": [
        "predict = classifier.predict(x_test)"
      ],
      "metadata": {
        "id": "prvdgOdv2j0X"
      },
      "execution_count": 74,
      "outputs": []
    },
    {
      "cell_type": "code",
      "source": [
        "print(confusion_matrix(y_test,predict))"
      ],
      "metadata": {
        "id": "zOf3OjtL2kdE",
        "colab": {
          "base_uri": "https://localhost:8080/"
        },
        "outputId": "825622cf-fc76-463d-c1ae-4b7c39af3695"
      },
      "execution_count": 75,
      "outputs": [
        {
          "output_type": "stream",
          "name": "stdout",
          "text": [
            "[[1823   40    7]\n",
            " [ 388  204   22]\n",
            " [ 213   38  193]]\n"
          ]
        }
      ]
    },
    {
      "cell_type": "code",
      "source": [
        "print(accuracy_score(y_test,predict))"
      ],
      "metadata": {
        "id": "fvdfeqxl2k2j",
        "colab": {
          "base_uri": "https://localhost:8080/"
        },
        "outputId": "805217e4-9e84-41ef-fa96-47c524829567"
      },
      "execution_count": 76,
      "outputs": [
        {
          "output_type": "stream",
          "name": "stdout",
          "text": [
            "0.7581967213114754\n"
          ]
        }
      ]
    },
    {
      "cell_type": "code",
      "source": [
        "print(classification_report(y_test,predictions))"
      ],
      "metadata": {
        "id": "NQjt28Nw2lPo",
        "colab": {
          "base_uri": "https://localhost:8080/"
        },
        "outputId": "11d6541a-4882-4aa6-fa47-f02c8c4240de"
      },
      "execution_count": 77,
      "outputs": [
        {
          "output_type": "stream",
          "name": "stdout",
          "text": [
            "              precision    recall  f1-score   support\n",
            "\n",
            "    negative       0.79      0.85      0.82      1870\n",
            "     neutral       0.46      0.40      0.43       614\n",
            "    positive       0.67      0.59      0.62       444\n",
            "\n",
            "    accuracy                           0.71      2928\n",
            "   macro avg       0.64      0.61      0.62      2928\n",
            "weighted avg       0.70      0.71      0.71      2928\n",
            "\n"
          ]
        }
      ]
    },
    {
      "cell_type": "markdown",
      "source": [
        "\n",
        "\n",
        "The Best accuracy achieved is 78% using SVM.\n"
      ],
      "metadata": {
        "id": "WZupCRYd2-Rj"
      }
    }
  ]
}